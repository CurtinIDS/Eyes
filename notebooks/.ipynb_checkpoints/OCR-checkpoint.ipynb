{
 "cells": [
  {
   "cell_type": "code",
   "execution_count": 1,
   "id": "0bd11a1d",
   "metadata": {},
   "outputs": [
    {
     "name": "stderr",
     "output_type": "stream",
     "text": [
      "2022-11-29 09:18:50.180441: I tensorflow/core/platform/cpu_feature_guard.cc:193] This TensorFlow binary is optimized with oneAPI Deep Neural Network Library (oneDNN) to use the following CPU instructions in performance-critical operations:  AVX2 AVX512F AVX512_VNNI FMA\n",
      "To enable them in other operations, rebuild TensorFlow with the appropriate compiler flags.\n",
      "2022-11-29 09:18:50.383267: I tensorflow/core/util/port.cc:104] oneDNN custom operations are on. You may see slightly different numerical results due to floating-point round-off errors from different computation orders. To turn them off, set the environment variable `TF_ENABLE_ONEDNN_OPTS=0`.\n",
      "2022-11-29 09:18:50.389881: W tensorflow/compiler/xla/stream_executor/platform/default/dso_loader.cc:64] Could not load dynamic library 'libcudart.so.11.0'; dlerror: libcudart.so.11.0: cannot open shared object file: No such file or directory; LD_LIBRARY_PATH: /home/carlo/anaconda3/envs/eyes/lib/python3.10/site-packages/cv2/../../lib64:\n",
      "2022-11-29 09:18:50.389902: I tensorflow/compiler/xla/stream_executor/cuda/cudart_stub.cc:29] Ignore above cudart dlerror if you do not have a GPU set up on your machine.\n",
      "2022-11-29 09:18:51.344105: W tensorflow/compiler/xla/stream_executor/platform/default/dso_loader.cc:64] Could not load dynamic library 'libnvinfer.so.7'; dlerror: libnvinfer.so.7: cannot open shared object file: No such file or directory; LD_LIBRARY_PATH: /home/carlo/anaconda3/envs/eyes/lib/python3.10/site-packages/cv2/../../lib64:\n",
      "2022-11-29 09:18:51.344195: W tensorflow/compiler/xla/stream_executor/platform/default/dso_loader.cc:64] Could not load dynamic library 'libnvinfer_plugin.so.7'; dlerror: libnvinfer_plugin.so.7: cannot open shared object file: No such file or directory; LD_LIBRARY_PATH: /home/carlo/anaconda3/envs/eyes/lib/python3.10/site-packages/cv2/../../lib64:\n",
      "2022-11-29 09:18:51.344202: W tensorflow/compiler/tf2tensorrt/utils/py_utils.cc:38] TF-TRT Warning: Cannot dlopen some TensorRT libraries. If you would like to use Nvidia GPU with TensorRT, please make sure the missing libraries mentioned above are installed properly.\n",
      "/home/carlo/anaconda3/envs/eyes/lib/python3.10/site-packages/tqdm/auto.py:22: TqdmWarning: IProgress not found. Please update jupyter and ipywidgets. See https://ipywidgets.readthedocs.io/en/stable/user_install.html\n",
      "  from .autonotebook import tqdm as notebook_tqdm\n"
     ]
    }
   ],
   "source": [
    "from ocr import OCR\n",
    "from PIL import Image\n",
    "import cv2\n",
    "import os\n",
    "import keras_ocr\n",
    "import matplotlib.pyplot as plt\n",
    "import numpy as np\n",
    "import pandas as pd\n",
    "from glob import glob as glob\n",
    "import openpyxl as op\n",
    "import re\n",
    "\n",
    "def flatten(l):\n",
    "    return [item for sublist in l for item in sublist]"
   ]
  },
  {
   "cell_type": "markdown",
   "id": "f3c8aa49",
   "metadata": {},
   "source": [
    "# Dictionary crops"
   ]
  },
  {
   "cell_type": "code",
   "execution_count": 2,
   "id": "ebe7b536",
   "metadata": {},
   "outputs": [],
   "source": [
    "crops={\n",
    "    'densities':{},\n",
    "    'faz':{}\n",
    "      }\n",
    "crops['densities']['table_top_left']={\n",
    "                                'l' : 1530,\n",
    "                                't' : 154,\n",
    "                                'r' : 1600,\n",
    "                                'b' : 540\n",
    "                                }\n",
    "crops['densities']['table_top_right']={\n",
    "                                'l' : 1750,\n",
    "                                't' : 154,\n",
    "                                'r' : 1825,\n",
    "                                'b' : 540\n",
    "                                }\n",
    "crops['densities']['table_bot']={\n",
    "                                'l' : 1535,\n",
    "                                't' : 560,\n",
    "                                'r' : 1825,\n",
    "                                'b' : 630\n",
    "                                }\n",
    "crops['densities']['quality']={\n",
    "                                'l' : 1116,\n",
    "                                't' : 55,\n",
    "                                'r' : 1200,\n",
    "                                'b' : 100\n",
    "                                }\n",
    "crops['faz']['values']={\n",
    "                            'l' : 400,\n",
    "                            't' : 90,\n",
    "                            'r' : 800,\n",
    "                            'b' : 120\n",
    "                            }\n",
    "\n",
    "\n",
    "crops['faz']['quality']={\n",
    "                        'l' : 1116,\n",
    "                        't' : 55,\n",
    "                        'r' : 1200,\n",
    "                        'b' : 100\n",
    "                        }\n"
   ]
  },
  {
   "cell_type": "markdown",
   "id": "aafca845",
   "metadata": {},
   "source": [
    "# FILES"
   ]
  },
  {
   "cell_type": "code",
   "execution_count": 3,
   "id": "c9cce12e",
   "metadata": {},
   "outputs": [],
   "source": [
    "#first iteration\n",
    "folders_patients=glob('../data/P*')\n",
    "folders_visits=glob('../data/P*/V*')\n",
    "visits=sorted(\n",
    "    list(\n",
    "        set([folder.split(\"/\")[3] for folder in folders_visits])\n",
    "    )\n",
    ")\n",
    "patients=sorted(\n",
    "    list(\n",
    "        set([folder.split('/')[2] for folder in folders_patients]) \n",
    "    )\n",
    ")\n",
    "\n",
    "#Calm down here\n",
    "# imgs={}\n",
    "# for patient in patients:\n",
    "#     imgs[patient]={}\n",
    "#     files=glob('../data/'+patient+\"/*/*\")\n",
    "#     files=[file for file in files if 'Zone' not in file]\n",
    "#     densities=[file for file in files if ('Density' in file) ]\n",
    "#     fazs=[file for file in files if ('FAZ' in file)  ]\n",
    "#     imgs[patient]['densities']=densities\n",
    "#     imgs[patient]['fazs']=fazs\n"
   ]
  },
  {
   "cell_type": "code",
   "execution_count": 4,
   "id": "929fa7da",
   "metadata": {},
   "outputs": [],
   "source": [
    "#second iteration\n",
    "files=glob('../data/*/*/*png')\n",
    "files=[file for file in files if 'QuickVue' not in file]\n",
    "\n",
    "imgpervisit={}\n",
    "for visit in visits:\n",
    "    imgpervisit[visit]=sorted([file for file in files if visit in file])\n",
    "\n"
   ]
  },
  {
   "cell_type": "code",
   "execution_count": null,
   "id": "6c8708ed",
   "metadata": {},
   "outputs": [],
   "source": [
    "imgpervisit['V2']"
   ]
  },
  {
   "cell_type": "code",
   "execution_count": 5,
   "id": "c49d7b21",
   "metadata": {
    "scrolled": true
   },
   "outputs": [
    {
     "name": "stdout",
     "output_type": "stream",
     "text": [
      "../data/P003/V2/P003, R eye, V2, 3.0 - FAZ.png\n",
      "Looking for /home/carlo/.keras-ocr/craft_mlt_25k.h5\n"
     ]
    },
    {
     "name": "stderr",
     "output_type": "stream",
     "text": [
      "2022-11-29 09:19:01.009316: W tensorflow/compiler/xla/stream_executor/platform/default/dso_loader.cc:64] Could not load dynamic library 'libcuda.so.1'; dlerror: libcuda.so.1: cannot open shared object file: No such file or directory; LD_LIBRARY_PATH: /home/carlo/anaconda3/envs/eyes/lib/python3.10/site-packages/cv2/../../lib64:\n",
      "2022-11-29 09:19:01.009361: W tensorflow/compiler/xla/stream_executor/cuda/cuda_driver.cc:265] failed call to cuInit: UNKNOWN ERROR (303)\n",
      "2022-11-29 09:19:01.009377: I tensorflow/compiler/xla/stream_executor/cuda/cuda_diagnostics.cc:156] kernel driver does not appear to be running on this host (C-A0051900): /proc/driver/nvidia/version does not exist\n",
      "2022-11-29 09:19:01.009522: I tensorflow/core/platform/cpu_feature_guard.cc:193] This TensorFlow binary is optimized with oneAPI Deep Neural Network Library (oneDNN) to use the following CPU instructions in performance-critical operations:  AVX2 AVX512F AVX512_VNNI FMA\n",
      "To enable them in other operations, rebuild TensorFlow with the appropriate compiler flags.\n",
      "CUDA not available - defaulting to CPU. Note: This module is much faster with a GPU.\n"
     ]
    },
    {
     "name": "stdout",
     "output_type": "stream",
     "text": [
      "Looking for /home/carlo/.keras-ocr/crnn_kurapan.h5\n"
     ]
    },
    {
     "name": "stderr",
     "output_type": "stream",
     "text": [
      "<timed exec>:236: FutureWarning: The frame.append method is deprecated and will be removed from pandas in a future version. Use pandas.concat instead.\n"
     ]
    },
    {
     "name": "stdout",
     "output_type": "stream",
     "text": [
      "../data/P003/V2/P003, L eye, V2, 6.0 - FAZ.png\n",
      "Looking for /home/carlo/.keras-ocr/craft_mlt_25k.h5\n"
     ]
    },
    {
     "name": "stderr",
     "output_type": "stream",
     "text": [
      "CUDA not available - defaulting to CPU. Note: This module is much faster with a GPU.\n"
     ]
    },
    {
     "name": "stdout",
     "output_type": "stream",
     "text": [
      "Looking for /home/carlo/.keras-ocr/crnn_kurapan.h5\n"
     ]
    },
    {
     "name": "stderr",
     "output_type": "stream",
     "text": [
      "<timed exec>:236: FutureWarning: The frame.append method is deprecated and will be removed from pandas in a future version. Use pandas.concat instead.\n"
     ]
    },
    {
     "name": "stdout",
     "output_type": "stream",
     "text": [
      "../data/P003/V2/P003, L eye, V2, 3.0 - FAZ.png\n",
      "Looking for /home/carlo/.keras-ocr/craft_mlt_25k.h5\n"
     ]
    },
    {
     "name": "stderr",
     "output_type": "stream",
     "text": [
      "CUDA not available - defaulting to CPU. Note: This module is much faster with a GPU.\n"
     ]
    },
    {
     "name": "stdout",
     "output_type": "stream",
     "text": [
      "Looking for /home/carlo/.keras-ocr/crnn_kurapan.h5\n"
     ]
    },
    {
     "name": "stderr",
     "output_type": "stream",
     "text": [
      "<timed exec>:236: FutureWarning: The frame.append method is deprecated and will be removed from pandas in a future version. Use pandas.concat instead.\n"
     ]
    },
    {
     "name": "stdout",
     "output_type": "stream",
     "text": [
      "../data/P003/V2/P003, R eye, V2, 6.0 - Density DP.png\n",
      "Looking for /home/carlo/.keras-ocr/craft_mlt_25k.h5\n"
     ]
    },
    {
     "name": "stderr",
     "output_type": "stream",
     "text": [
      "CUDA not available - defaulting to CPU. Note: This module is much faster with a GPU.\n"
     ]
    },
    {
     "name": "stdout",
     "output_type": "stream",
     "text": [
      "Looking for /home/carlo/.keras-ocr/crnn_kurapan.h5\n"
     ]
    },
    {
     "name": "stderr",
     "output_type": "stream",
     "text": [
      "<timed exec>:205: FutureWarning: The frame.append method is deprecated and will be removed from pandas in a future version. Use pandas.concat instead.\n"
     ]
    },
    {
     "name": "stdout",
     "output_type": "stream",
     "text": [
      "../data/P003/V2/P003, R eye, V2, 6.0 - FAZ.png\n",
      "Looking for /home/carlo/.keras-ocr/craft_mlt_25k.h5\n"
     ]
    },
    {
     "name": "stderr",
     "output_type": "stream",
     "text": [
      "CUDA not available - defaulting to CPU. Note: This module is much faster with a GPU.\n"
     ]
    },
    {
     "name": "stdout",
     "output_type": "stream",
     "text": [
      "Looking for /home/carlo/.keras-ocr/crnn_kurapan.h5\n"
     ]
    },
    {
     "name": "stderr",
     "output_type": "stream",
     "text": [
      "<timed exec>:236: FutureWarning: The frame.append method is deprecated and will be removed from pandas in a future version. Use pandas.concat instead.\n"
     ]
    },
    {
     "name": "stdout",
     "output_type": "stream",
     "text": [
      "../data/P003/V2/P003, L eye, V2, 6.0 - Density SUP.png\n",
      "Looking for /home/carlo/.keras-ocr/craft_mlt_25k.h5\n"
     ]
    },
    {
     "name": "stderr",
     "output_type": "stream",
     "text": [
      "CUDA not available - defaulting to CPU. Note: This module is much faster with a GPU.\n"
     ]
    },
    {
     "name": "stdout",
     "output_type": "stream",
     "text": [
      "Looking for /home/carlo/.keras-ocr/crnn_kurapan.h5\n"
     ]
    },
    {
     "name": "stderr",
     "output_type": "stream",
     "text": [
      "<timed exec>:205: FutureWarning: The frame.append method is deprecated and will be removed from pandas in a future version. Use pandas.concat instead.\n"
     ]
    },
    {
     "name": "stdout",
     "output_type": "stream",
     "text": [
      "../data/P003/V2/P003, L eye, V2, 3.0 - Density DP.png\n",
      "Looking for /home/carlo/.keras-ocr/craft_mlt_25k.h5\n"
     ]
    },
    {
     "name": "stderr",
     "output_type": "stream",
     "text": [
      "CUDA not available - defaulting to CPU. Note: This module is much faster with a GPU.\n"
     ]
    },
    {
     "name": "stdout",
     "output_type": "stream",
     "text": [
      "Looking for /home/carlo/.keras-ocr/crnn_kurapan.h5\n"
     ]
    },
    {
     "name": "stderr",
     "output_type": "stream",
     "text": [
      "<timed exec>:205: FutureWarning: The frame.append method is deprecated and will be removed from pandas in a future version. Use pandas.concat instead.\n"
     ]
    },
    {
     "name": "stdout",
     "output_type": "stream",
     "text": [
      "../data/P003/V2/P003, R eye, V2, 6.0 - Density SUP.png\n",
      "Looking for /home/carlo/.keras-ocr/craft_mlt_25k.h5\n"
     ]
    },
    {
     "name": "stderr",
     "output_type": "stream",
     "text": [
      "CUDA not available - defaulting to CPU. Note: This module is much faster with a GPU.\n"
     ]
    },
    {
     "name": "stdout",
     "output_type": "stream",
     "text": [
      "Looking for /home/carlo/.keras-ocr/crnn_kurapan.h5\n"
     ]
    },
    {
     "name": "stderr",
     "output_type": "stream",
     "text": [
      "<timed exec>:205: FutureWarning: The frame.append method is deprecated and will be removed from pandas in a future version. Use pandas.concat instead.\n"
     ]
    },
    {
     "name": "stdout",
     "output_type": "stream",
     "text": [
      "../data/P003/V2/P003, L eye, V2, 3.0 - Density SUP.png\n",
      "Looking for /home/carlo/.keras-ocr/craft_mlt_25k.h5\n"
     ]
    },
    {
     "name": "stderr",
     "output_type": "stream",
     "text": [
      "CUDA not available - defaulting to CPU. Note: This module is much faster with a GPU.\n"
     ]
    },
    {
     "name": "stdout",
     "output_type": "stream",
     "text": [
      "Looking for /home/carlo/.keras-ocr/crnn_kurapan.h5\n"
     ]
    },
    {
     "name": "stderr",
     "output_type": "stream",
     "text": [
      "<timed exec>:205: FutureWarning: The frame.append method is deprecated and will be removed from pandas in a future version. Use pandas.concat instead.\n"
     ]
    },
    {
     "name": "stdout",
     "output_type": "stream",
     "text": [
      "../data/P003/V2/P003, R eye, V2, 3.0 - Density SUP.png\n",
      "Looking for /home/carlo/.keras-ocr/craft_mlt_25k.h5\n"
     ]
    },
    {
     "name": "stderr",
     "output_type": "stream",
     "text": [
      "CUDA not available - defaulting to CPU. Note: This module is much faster with a GPU.\n"
     ]
    },
    {
     "name": "stdout",
     "output_type": "stream",
     "text": [
      "Looking for /home/carlo/.keras-ocr/crnn_kurapan.h5\n"
     ]
    },
    {
     "name": "stderr",
     "output_type": "stream",
     "text": [
      "<timed exec>:205: FutureWarning: The frame.append method is deprecated and will be removed from pandas in a future version. Use pandas.concat instead.\n"
     ]
    },
    {
     "name": "stdout",
     "output_type": "stream",
     "text": [
      "../data/P003/V2/P003, L eye, V2, 6.0 - Density DP.png\n",
      "Looking for /home/carlo/.keras-ocr/craft_mlt_25k.h5\n"
     ]
    },
    {
     "name": "stderr",
     "output_type": "stream",
     "text": [
      "CUDA not available - defaulting to CPU. Note: This module is much faster with a GPU.\n"
     ]
    },
    {
     "name": "stdout",
     "output_type": "stream",
     "text": [
      "Looking for /home/carlo/.keras-ocr/crnn_kurapan.h5\n"
     ]
    },
    {
     "name": "stderr",
     "output_type": "stream",
     "text": [
      "<timed exec>:205: FutureWarning: The frame.append method is deprecated and will be removed from pandas in a future version. Use pandas.concat instead.\n"
     ]
    },
    {
     "name": "stdout",
     "output_type": "stream",
     "text": [
      "../data/P003/V2/P003, R eye, V2, 3.0 - Density DP.png\n",
      "Looking for /home/carlo/.keras-ocr/craft_mlt_25k.h5\n"
     ]
    },
    {
     "name": "stderr",
     "output_type": "stream",
     "text": [
      "CUDA not available - defaulting to CPU. Note: This module is much faster with a GPU.\n"
     ]
    },
    {
     "name": "stdout",
     "output_type": "stream",
     "text": [
      "Looking for /home/carlo/.keras-ocr/crnn_kurapan.h5\n"
     ]
    },
    {
     "name": "stderr",
     "output_type": "stream",
     "text": [
      "<timed exec>:205: FutureWarning: The frame.append method is deprecated and will be removed from pandas in a future version. Use pandas.concat instead.\n"
     ]
    },
    {
     "name": "stdout",
     "output_type": "stream",
     "text": [
      "../data/P003/V3/P003, L eye, V3, 6.0 - Density SUP.png\n",
      "Looking for /home/carlo/.keras-ocr/craft_mlt_25k.h5\n"
     ]
    },
    {
     "name": "stderr",
     "output_type": "stream",
     "text": [
      "CUDA not available - defaulting to CPU. Note: This module is much faster with a GPU.\n"
     ]
    },
    {
     "name": "stdout",
     "output_type": "stream",
     "text": [
      "Looking for /home/carlo/.keras-ocr/crnn_kurapan.h5\n"
     ]
    },
    {
     "name": "stderr",
     "output_type": "stream",
     "text": [
      "<timed exec>:205: FutureWarning: The frame.append method is deprecated and will be removed from pandas in a future version. Use pandas.concat instead.\n"
     ]
    },
    {
     "name": "stdout",
     "output_type": "stream",
     "text": [
      "../data/P003/V3/P003, L eye, V3, 6.0 - FAZ.png\n",
      "Looking for /home/carlo/.keras-ocr/craft_mlt_25k.h5\n"
     ]
    },
    {
     "name": "stderr",
     "output_type": "stream",
     "text": [
      "CUDA not available - defaulting to CPU. Note: This module is much faster with a GPU.\n"
     ]
    },
    {
     "name": "stdout",
     "output_type": "stream",
     "text": [
      "Looking for /home/carlo/.keras-ocr/crnn_kurapan.h5\n"
     ]
    },
    {
     "name": "stderr",
     "output_type": "stream",
     "text": [
      "<timed exec>:236: FutureWarning: The frame.append method is deprecated and will be removed from pandas in a future version. Use pandas.concat instead.\n"
     ]
    },
    {
     "name": "stdout",
     "output_type": "stream",
     "text": [
      "../data/P003/V3/P003, R eye, V3, 6.0 - Density SUP.png\n",
      "Looking for /home/carlo/.keras-ocr/craft_mlt_25k.h5\n"
     ]
    },
    {
     "name": "stderr",
     "output_type": "stream",
     "text": [
      "CUDA not available - defaulting to CPU. Note: This module is much faster with a GPU.\n"
     ]
    },
    {
     "name": "stdout",
     "output_type": "stream",
     "text": [
      "Looking for /home/carlo/.keras-ocr/crnn_kurapan.h5\n"
     ]
    },
    {
     "name": "stderr",
     "output_type": "stream",
     "text": [
      "<timed exec>:205: FutureWarning: The frame.append method is deprecated and will be removed from pandas in a future version. Use pandas.concat instead.\n"
     ]
    },
    {
     "name": "stdout",
     "output_type": "stream",
     "text": [
      "../data/P003/V3/P003, R eye, V3, 3.0 - Density DP.png\n",
      "Looking for /home/carlo/.keras-ocr/craft_mlt_25k.h5\n"
     ]
    },
    {
     "name": "stderr",
     "output_type": "stream",
     "text": [
      "CUDA not available - defaulting to CPU. Note: This module is much faster with a GPU.\n"
     ]
    },
    {
     "name": "stdout",
     "output_type": "stream",
     "text": [
      "Looking for /home/carlo/.keras-ocr/crnn_kurapan.h5\n"
     ]
    },
    {
     "name": "stderr",
     "output_type": "stream",
     "text": [
      "<timed exec>:205: FutureWarning: The frame.append method is deprecated and will be removed from pandas in a future version. Use pandas.concat instead.\n"
     ]
    },
    {
     "name": "stdout",
     "output_type": "stream",
     "text": [
      "../data/P003/V3/P003, R eye, V3, 6.0 - FAZ.png\n",
      "Looking for /home/carlo/.keras-ocr/craft_mlt_25k.h5\n"
     ]
    },
    {
     "name": "stderr",
     "output_type": "stream",
     "text": [
      "CUDA not available - defaulting to CPU. Note: This module is much faster with a GPU.\n"
     ]
    },
    {
     "name": "stdout",
     "output_type": "stream",
     "text": [
      "Looking for /home/carlo/.keras-ocr/crnn_kurapan.h5\n"
     ]
    },
    {
     "name": "stderr",
     "output_type": "stream",
     "text": [
      "<timed exec>:236: FutureWarning: The frame.append method is deprecated and will be removed from pandas in a future version. Use pandas.concat instead.\n"
     ]
    },
    {
     "name": "stdout",
     "output_type": "stream",
     "text": [
      "../data/P003/V3/P003, R eye, V3, 3.0 - FAZ.png\n",
      "Looking for /home/carlo/.keras-ocr/craft_mlt_25k.h5\n"
     ]
    },
    {
     "name": "stderr",
     "output_type": "stream",
     "text": [
      "CUDA not available - defaulting to CPU. Note: This module is much faster with a GPU.\n"
     ]
    },
    {
     "name": "stdout",
     "output_type": "stream",
     "text": [
      "Looking for /home/carlo/.keras-ocr/crnn_kurapan.h5\n"
     ]
    },
    {
     "name": "stderr",
     "output_type": "stream",
     "text": [
      "<timed exec>:236: FutureWarning: The frame.append method is deprecated and will be removed from pandas in a future version. Use pandas.concat instead.\n"
     ]
    },
    {
     "name": "stdout",
     "output_type": "stream",
     "text": [
      "../data/P003/V3/P003, L eye, V3, 3.0 - FAZ.png\n",
      "Looking for /home/carlo/.keras-ocr/craft_mlt_25k.h5\n"
     ]
    },
    {
     "name": "stderr",
     "output_type": "stream",
     "text": [
      "CUDA not available - defaulting to CPU. Note: This module is much faster with a GPU.\n"
     ]
    },
    {
     "name": "stdout",
     "output_type": "stream",
     "text": [
      "Looking for /home/carlo/.keras-ocr/crnn_kurapan.h5\n"
     ]
    },
    {
     "name": "stderr",
     "output_type": "stream",
     "text": [
      "<timed exec>:236: FutureWarning: The frame.append method is deprecated and will be removed from pandas in a future version. Use pandas.concat instead.\n"
     ]
    },
    {
     "name": "stdout",
     "output_type": "stream",
     "text": [
      "../data/P003/V3/P003, L eye, V3, 3.0 - Density DP.png\n",
      "Looking for /home/carlo/.keras-ocr/craft_mlt_25k.h5\n"
     ]
    },
    {
     "name": "stderr",
     "output_type": "stream",
     "text": [
      "CUDA not available - defaulting to CPU. Note: This module is much faster with a GPU.\n"
     ]
    },
    {
     "name": "stdout",
     "output_type": "stream",
     "text": [
      "Looking for /home/carlo/.keras-ocr/crnn_kurapan.h5\n"
     ]
    },
    {
     "name": "stderr",
     "output_type": "stream",
     "text": [
      "<timed exec>:205: FutureWarning: The frame.append method is deprecated and will be removed from pandas in a future version. Use pandas.concat instead.\n"
     ]
    },
    {
     "name": "stdout",
     "output_type": "stream",
     "text": [
      "../data/P003/V3/P003, R eye, V3, 6.0 - Density DP.png\n",
      "Looking for /home/carlo/.keras-ocr/craft_mlt_25k.h5\n"
     ]
    },
    {
     "name": "stderr",
     "output_type": "stream",
     "text": [
      "CUDA not available - defaulting to CPU. Note: This module is much faster with a GPU.\n"
     ]
    },
    {
     "name": "stdout",
     "output_type": "stream",
     "text": [
      "Looking for /home/carlo/.keras-ocr/crnn_kurapan.h5\n"
     ]
    },
    {
     "name": "stderr",
     "output_type": "stream",
     "text": [
      "<timed exec>:205: FutureWarning: The frame.append method is deprecated and will be removed from pandas in a future version. Use pandas.concat instead.\n"
     ]
    },
    {
     "name": "stdout",
     "output_type": "stream",
     "text": [
      "../data/P003/V3/P003, L eye, V3, 3.0 - Density SUP.png\n",
      "Looking for /home/carlo/.keras-ocr/craft_mlt_25k.h5\n"
     ]
    },
    {
     "name": "stderr",
     "output_type": "stream",
     "text": [
      "CUDA not available - defaulting to CPU. Note: This module is much faster with a GPU.\n"
     ]
    },
    {
     "name": "stdout",
     "output_type": "stream",
     "text": [
      "Looking for /home/carlo/.keras-ocr/crnn_kurapan.h5\n"
     ]
    },
    {
     "name": "stderr",
     "output_type": "stream",
     "text": [
      "<timed exec>:205: FutureWarning: The frame.append method is deprecated and will be removed from pandas in a future version. Use pandas.concat instead.\n"
     ]
    },
    {
     "name": "stdout",
     "output_type": "stream",
     "text": [
      "../data/P003/V3/P003, L eye, V3, 6.0 - Density DP.png\n",
      "Looking for /home/carlo/.keras-ocr/craft_mlt_25k.h5\n"
     ]
    },
    {
     "name": "stderr",
     "output_type": "stream",
     "text": [
      "CUDA not available - defaulting to CPU. Note: This module is much faster with a GPU.\n"
     ]
    },
    {
     "name": "stdout",
     "output_type": "stream",
     "text": [
      "Looking for /home/carlo/.keras-ocr/crnn_kurapan.h5\n"
     ]
    },
    {
     "name": "stderr",
     "output_type": "stream",
     "text": [
      "<timed exec>:205: FutureWarning: The frame.append method is deprecated and will be removed from pandas in a future version. Use pandas.concat instead.\n"
     ]
    },
    {
     "name": "stdout",
     "output_type": "stream",
     "text": [
      "../data/P003/V3/P003, R eye, V3, 3.0 - Density SUP.png\n",
      "Looking for /home/carlo/.keras-ocr/craft_mlt_25k.h5\n"
     ]
    },
    {
     "name": "stderr",
     "output_type": "stream",
     "text": [
      "CUDA not available - defaulting to CPU. Note: This module is much faster with a GPU.\n"
     ]
    },
    {
     "name": "stdout",
     "output_type": "stream",
     "text": [
      "Looking for /home/carlo/.keras-ocr/crnn_kurapan.h5\n"
     ]
    },
    {
     "name": "stderr",
     "output_type": "stream",
     "text": [
      "<timed exec>:205: FutureWarning: The frame.append method is deprecated and will be removed from pandas in a future version. Use pandas.concat instead.\n"
     ]
    },
    {
     "name": "stdout",
     "output_type": "stream",
     "text": [
      "../data/P006/V2/P006, R eye, V2, 6.0 - Density SUP.png\n",
      "Looking for /home/carlo/.keras-ocr/craft_mlt_25k.h5\n"
     ]
    },
    {
     "name": "stderr",
     "output_type": "stream",
     "text": [
      "CUDA not available - defaulting to CPU. Note: This module is much faster with a GPU.\n"
     ]
    },
    {
     "name": "stdout",
     "output_type": "stream",
     "text": [
      "Looking for /home/carlo/.keras-ocr/crnn_kurapan.h5\n"
     ]
    },
    {
     "name": "stderr",
     "output_type": "stream",
     "text": [
      "<timed exec>:205: FutureWarning: The frame.append method is deprecated and will be removed from pandas in a future version. Use pandas.concat instead.\n"
     ]
    },
    {
     "name": "stdout",
     "output_type": "stream",
     "text": [
      "../data/P006/V2/P006, L eye, V2, 6.0 - FAZ.png\n",
      "Looking for /home/carlo/.keras-ocr/craft_mlt_25k.h5\n"
     ]
    },
    {
     "name": "stderr",
     "output_type": "stream",
     "text": [
      "CUDA not available - defaulting to CPU. Note: This module is much faster with a GPU.\n"
     ]
    },
    {
     "name": "stdout",
     "output_type": "stream",
     "text": [
      "Looking for /home/carlo/.keras-ocr/crnn_kurapan.h5\n"
     ]
    },
    {
     "name": "stderr",
     "output_type": "stream",
     "text": [
      "<timed exec>:236: FutureWarning: The frame.append method is deprecated and will be removed from pandas in a future version. Use pandas.concat instead.\n"
     ]
    },
    {
     "name": "stdout",
     "output_type": "stream",
     "text": [
      "../data/P006/V2/P006, R eye, V2, 3.0 - Density DP.png\n",
      "Looking for /home/carlo/.keras-ocr/craft_mlt_25k.h5\n"
     ]
    },
    {
     "name": "stderr",
     "output_type": "stream",
     "text": [
      "CUDA not available - defaulting to CPU. Note: This module is much faster with a GPU.\n"
     ]
    },
    {
     "name": "stdout",
     "output_type": "stream",
     "text": [
      "Looking for /home/carlo/.keras-ocr/crnn_kurapan.h5\n"
     ]
    },
    {
     "name": "stderr",
     "output_type": "stream",
     "text": [
      "<timed exec>:205: FutureWarning: The frame.append method is deprecated and will be removed from pandas in a future version. Use pandas.concat instead.\n"
     ]
    },
    {
     "name": "stdout",
     "output_type": "stream",
     "text": [
      "../data/P006/V2/P006, L eye, V2, 6.0 - Density SUP.png\n",
      "Looking for /home/carlo/.keras-ocr/craft_mlt_25k.h5\n"
     ]
    },
    {
     "name": "stderr",
     "output_type": "stream",
     "text": [
      "CUDA not available - defaulting to CPU. Note: This module is much faster with a GPU.\n"
     ]
    },
    {
     "name": "stdout",
     "output_type": "stream",
     "text": [
      "Looking for /home/carlo/.keras-ocr/crnn_kurapan.h5\n"
     ]
    },
    {
     "name": "stderr",
     "output_type": "stream",
     "text": [
      "<timed exec>:205: FutureWarning: The frame.append method is deprecated and will be removed from pandas in a future version. Use pandas.concat instead.\n"
     ]
    },
    {
     "name": "stdout",
     "output_type": "stream",
     "text": [
      "../data/P006/V2/P006, L eye, V2, 3.0 - FAZ.png\n",
      "Looking for /home/carlo/.keras-ocr/craft_mlt_25k.h5\n"
     ]
    },
    {
     "name": "stderr",
     "output_type": "stream",
     "text": [
      "CUDA not available - defaulting to CPU. Note: This module is much faster with a GPU.\n"
     ]
    },
    {
     "name": "stdout",
     "output_type": "stream",
     "text": [
      "Looking for /home/carlo/.keras-ocr/crnn_kurapan.h5\n"
     ]
    },
    {
     "name": "stderr",
     "output_type": "stream",
     "text": [
      "<timed exec>:236: FutureWarning: The frame.append method is deprecated and will be removed from pandas in a future version. Use pandas.concat instead.\n"
     ]
    },
    {
     "name": "stdout",
     "output_type": "stream",
     "text": [
      "../data/P006/V2/P006, R eye, V2, 6.0 - Density DP.png\n",
      "Looking for /home/carlo/.keras-ocr/craft_mlt_25k.h5\n"
     ]
    },
    {
     "name": "stderr",
     "output_type": "stream",
     "text": [
      "CUDA not available - defaulting to CPU. Note: This module is much faster with a GPU.\n"
     ]
    },
    {
     "name": "stdout",
     "output_type": "stream",
     "text": [
      "Looking for /home/carlo/.keras-ocr/crnn_kurapan.h5\n"
     ]
    },
    {
     "name": "stderr",
     "output_type": "stream",
     "text": [
      "<timed exec>:205: FutureWarning: The frame.append method is deprecated and will be removed from pandas in a future version. Use pandas.concat instead.\n"
     ]
    },
    {
     "name": "stdout",
     "output_type": "stream",
     "text": [
      "../data/P006/V2/P006, R eye, V2, 3.0 - FAZ.png\n",
      "Looking for /home/carlo/.keras-ocr/craft_mlt_25k.h5\n"
     ]
    },
    {
     "name": "stderr",
     "output_type": "stream",
     "text": [
      "CUDA not available - defaulting to CPU. Note: This module is much faster with a GPU.\n"
     ]
    },
    {
     "name": "stdout",
     "output_type": "stream",
     "text": [
      "Looking for /home/carlo/.keras-ocr/crnn_kurapan.h5\n"
     ]
    },
    {
     "name": "stderr",
     "output_type": "stream",
     "text": [
      "<timed exec>:236: FutureWarning: The frame.append method is deprecated and will be removed from pandas in a future version. Use pandas.concat instead.\n"
     ]
    },
    {
     "name": "stdout",
     "output_type": "stream",
     "text": [
      "../data/P006/V2/P006, L eye, V2, 6.0 - Density DP.png\n",
      "Looking for /home/carlo/.keras-ocr/craft_mlt_25k.h5\n"
     ]
    },
    {
     "name": "stderr",
     "output_type": "stream",
     "text": [
      "CUDA not available - defaulting to CPU. Note: This module is much faster with a GPU.\n"
     ]
    },
    {
     "name": "stdout",
     "output_type": "stream",
     "text": [
      "Looking for /home/carlo/.keras-ocr/crnn_kurapan.h5\n"
     ]
    },
    {
     "name": "stderr",
     "output_type": "stream",
     "text": [
      "<timed exec>:205: FutureWarning: The frame.append method is deprecated and will be removed from pandas in a future version. Use pandas.concat instead.\n"
     ]
    },
    {
     "name": "stdout",
     "output_type": "stream",
     "text": [
      "../data/P006/V2/P006, L eye, V2, 3.0 - Density SUP.png\n",
      "Looking for /home/carlo/.keras-ocr/craft_mlt_25k.h5\n"
     ]
    },
    {
     "name": "stderr",
     "output_type": "stream",
     "text": [
      "CUDA not available - defaulting to CPU. Note: This module is much faster with a GPU.\n"
     ]
    },
    {
     "name": "stdout",
     "output_type": "stream",
     "text": [
      "Looking for /home/carlo/.keras-ocr/crnn_kurapan.h5\n"
     ]
    },
    {
     "name": "stderr",
     "output_type": "stream",
     "text": [
      "<timed exec>:205: FutureWarning: The frame.append method is deprecated and will be removed from pandas in a future version. Use pandas.concat instead.\n"
     ]
    },
    {
     "name": "stdout",
     "output_type": "stream",
     "text": [
      "../data/P006/V2/P006, R eye, V2, 3.0 - Density SUP.png\n",
      "Looking for /home/carlo/.keras-ocr/craft_mlt_25k.h5\n"
     ]
    },
    {
     "name": "stderr",
     "output_type": "stream",
     "text": [
      "CUDA not available - defaulting to CPU. Note: This module is much faster with a GPU.\n"
     ]
    },
    {
     "name": "stdout",
     "output_type": "stream",
     "text": [
      "Looking for /home/carlo/.keras-ocr/crnn_kurapan.h5\n"
     ]
    },
    {
     "name": "stderr",
     "output_type": "stream",
     "text": [
      "<timed exec>:205: FutureWarning: The frame.append method is deprecated and will be removed from pandas in a future version. Use pandas.concat instead.\n"
     ]
    },
    {
     "name": "stdout",
     "output_type": "stream",
     "text": [
      "../data/P006/V2/P006, R eye, V2, 6.0 - FAZ.png\n",
      "Looking for /home/carlo/.keras-ocr/craft_mlt_25k.h5\n"
     ]
    },
    {
     "name": "stderr",
     "output_type": "stream",
     "text": [
      "CUDA not available - defaulting to CPU. Note: This module is much faster with a GPU.\n"
     ]
    },
    {
     "name": "stdout",
     "output_type": "stream",
     "text": [
      "Looking for /home/carlo/.keras-ocr/crnn_kurapan.h5\n"
     ]
    },
    {
     "name": "stderr",
     "output_type": "stream",
     "text": [
      "<timed exec>:236: FutureWarning: The frame.append method is deprecated and will be removed from pandas in a future version. Use pandas.concat instead.\n"
     ]
    },
    {
     "name": "stdout",
     "output_type": "stream",
     "text": [
      "../data/P006/V2/P006, L eye, V2, 3.0 - Density DP.png\n",
      "Looking for /home/carlo/.keras-ocr/craft_mlt_25k.h5\n"
     ]
    },
    {
     "name": "stderr",
     "output_type": "stream",
     "text": [
      "CUDA not available - defaulting to CPU. Note: This module is much faster with a GPU.\n"
     ]
    },
    {
     "name": "stdout",
     "output_type": "stream",
     "text": [
      "Looking for /home/carlo/.keras-ocr/crnn_kurapan.h5\n"
     ]
    },
    {
     "name": "stderr",
     "output_type": "stream",
     "text": [
      "<timed exec>:205: FutureWarning: The frame.append method is deprecated and will be removed from pandas in a future version. Use pandas.concat instead.\n"
     ]
    },
    {
     "name": "stdout",
     "output_type": "stream",
     "text": [
      "../data/P006/V3/P006, L eye, V3, 6.0 - Density SUP.png\n",
      "Looking for /home/carlo/.keras-ocr/craft_mlt_25k.h5\n"
     ]
    },
    {
     "name": "stderr",
     "output_type": "stream",
     "text": [
      "CUDA not available - defaulting to CPU. Note: This module is much faster with a GPU.\n"
     ]
    },
    {
     "name": "stdout",
     "output_type": "stream",
     "text": [
      "Looking for /home/carlo/.keras-ocr/crnn_kurapan.h5\n"
     ]
    },
    {
     "name": "stderr",
     "output_type": "stream",
     "text": [
      "<timed exec>:205: FutureWarning: The frame.append method is deprecated and will be removed from pandas in a future version. Use pandas.concat instead.\n"
     ]
    },
    {
     "name": "stdout",
     "output_type": "stream",
     "text": [
      "../data/P006/V3/P006, R eye, V3, 6.0 - Density SUP.png\n",
      "Looking for /home/carlo/.keras-ocr/craft_mlt_25k.h5\n"
     ]
    },
    {
     "name": "stderr",
     "output_type": "stream",
     "text": [
      "CUDA not available - defaulting to CPU. Note: This module is much faster with a GPU.\n"
     ]
    },
    {
     "name": "stdout",
     "output_type": "stream",
     "text": [
      "Looking for /home/carlo/.keras-ocr/crnn_kurapan.h5\n"
     ]
    },
    {
     "name": "stderr",
     "output_type": "stream",
     "text": [
      "<timed exec>:205: FutureWarning: The frame.append method is deprecated and will be removed from pandas in a future version. Use pandas.concat instead.\n"
     ]
    },
    {
     "name": "stdout",
     "output_type": "stream",
     "text": [
      "../data/P006/V3/P006, L eye, V3, 6.0 - FAZ.png\n",
      "Looking for /home/carlo/.keras-ocr/craft_mlt_25k.h5\n"
     ]
    },
    {
     "name": "stderr",
     "output_type": "stream",
     "text": [
      "CUDA not available - defaulting to CPU. Note: This module is much faster with a GPU.\n"
     ]
    },
    {
     "name": "stdout",
     "output_type": "stream",
     "text": [
      "Looking for /home/carlo/.keras-ocr/crnn_kurapan.h5\n"
     ]
    },
    {
     "name": "stderr",
     "output_type": "stream",
     "text": [
      "<timed exec>:236: FutureWarning: The frame.append method is deprecated and will be removed from pandas in a future version. Use pandas.concat instead.\n"
     ]
    },
    {
     "name": "stdout",
     "output_type": "stream",
     "text": [
      "../data/P006/V3/P006, R eye, V3, 3.0 - FAZ.png\n",
      "Looking for /home/carlo/.keras-ocr/craft_mlt_25k.h5\n"
     ]
    },
    {
     "name": "stderr",
     "output_type": "stream",
     "text": [
      "CUDA not available - defaulting to CPU. Note: This module is much faster with a GPU.\n"
     ]
    },
    {
     "name": "stdout",
     "output_type": "stream",
     "text": [
      "Looking for /home/carlo/.keras-ocr/crnn_kurapan.h5\n"
     ]
    },
    {
     "name": "stderr",
     "output_type": "stream",
     "text": [
      "<timed exec>:236: FutureWarning: The frame.append method is deprecated and will be removed from pandas in a future version. Use pandas.concat instead.\n"
     ]
    },
    {
     "name": "stdout",
     "output_type": "stream",
     "text": [
      "../data/P006/V3/P006, R eye, V3, 6.0 - Density DP.png\n",
      "Looking for /home/carlo/.keras-ocr/craft_mlt_25k.h5\n"
     ]
    },
    {
     "name": "stderr",
     "output_type": "stream",
     "text": [
      "CUDA not available - defaulting to CPU. Note: This module is much faster with a GPU.\n"
     ]
    },
    {
     "name": "stdout",
     "output_type": "stream",
     "text": [
      "Looking for /home/carlo/.keras-ocr/crnn_kurapan.h5\n",
      "Looking for /home/carlo/.keras-ocr/craft_mlt_25k.h5\n"
     ]
    },
    {
     "name": "stderr",
     "output_type": "stream",
     "text": [
      "CUDA not available - defaulting to CPU. Note: This module is much faster with a GPU.\n"
     ]
    },
    {
     "name": "stdout",
     "output_type": "stream",
     "text": [
      "Looking for /home/carlo/.keras-ocr/crnn_kurapan.h5\n"
     ]
    },
    {
     "name": "stderr",
     "output_type": "stream",
     "text": [
      "<timed exec>:205: FutureWarning: The frame.append method is deprecated and will be removed from pandas in a future version. Use pandas.concat instead.\n"
     ]
    },
    {
     "name": "stdout",
     "output_type": "stream",
     "text": [
      "../data/P006/V3/P006, L eye, V3, 3.0 - FAZ.png\n",
      "Looking for /home/carlo/.keras-ocr/craft_mlt_25k.h5\n"
     ]
    },
    {
     "name": "stderr",
     "output_type": "stream",
     "text": [
      "CUDA not available - defaulting to CPU. Note: This module is much faster with a GPU.\n"
     ]
    },
    {
     "name": "stdout",
     "output_type": "stream",
     "text": [
      "Looking for /home/carlo/.keras-ocr/crnn_kurapan.h5\n"
     ]
    },
    {
     "name": "stderr",
     "output_type": "stream",
     "text": [
      "<timed exec>:236: FutureWarning: The frame.append method is deprecated and will be removed from pandas in a future version. Use pandas.concat instead.\n"
     ]
    },
    {
     "name": "stdout",
     "output_type": "stream",
     "text": [
      "../data/P006/V3/P006, L eye, V3, 3.0 - Density SUP.png\n",
      "Looking for /home/carlo/.keras-ocr/craft_mlt_25k.h5\n"
     ]
    },
    {
     "name": "stderr",
     "output_type": "stream",
     "text": [
      "CUDA not available - defaulting to CPU. Note: This module is much faster with a GPU.\n"
     ]
    },
    {
     "name": "stdout",
     "output_type": "stream",
     "text": [
      "Looking for /home/carlo/.keras-ocr/crnn_kurapan.h5\n"
     ]
    },
    {
     "name": "stderr",
     "output_type": "stream",
     "text": [
      "<timed exec>:205: FutureWarning: The frame.append method is deprecated and will be removed from pandas in a future version. Use pandas.concat instead.\n"
     ]
    },
    {
     "name": "stdout",
     "output_type": "stream",
     "text": [
      "../data/P006/V3/P006, L eye, V3, 3.0 - Density DP.png\n",
      "Looking for /home/carlo/.keras-ocr/craft_mlt_25k.h5\n"
     ]
    },
    {
     "name": "stderr",
     "output_type": "stream",
     "text": [
      "CUDA not available - defaulting to CPU. Note: This module is much faster with a GPU.\n"
     ]
    },
    {
     "name": "stdout",
     "output_type": "stream",
     "text": [
      "Looking for /home/carlo/.keras-ocr/crnn_kurapan.h5\n",
      "Looking for /home/carlo/.keras-ocr/craft_mlt_25k.h5\n"
     ]
    },
    {
     "name": "stderr",
     "output_type": "stream",
     "text": [
      "CUDA not available - defaulting to CPU. Note: This module is much faster with a GPU.\n"
     ]
    },
    {
     "name": "stdout",
     "output_type": "stream",
     "text": [
      "Looking for /home/carlo/.keras-ocr/crnn_kurapan.h5\n"
     ]
    },
    {
     "name": "stderr",
     "output_type": "stream",
     "text": [
      "<timed exec>:205: FutureWarning: The frame.append method is deprecated and will be removed from pandas in a future version. Use pandas.concat instead.\n"
     ]
    },
    {
     "name": "stdout",
     "output_type": "stream",
     "text": [
      "../data/P006/V3/P006, R eye, V3, 6.0 - FAZ.png\n",
      "Looking for /home/carlo/.keras-ocr/craft_mlt_25k.h5\n"
     ]
    },
    {
     "name": "stderr",
     "output_type": "stream",
     "text": [
      "CUDA not available - defaulting to CPU. Note: This module is much faster with a GPU.\n"
     ]
    },
    {
     "name": "stdout",
     "output_type": "stream",
     "text": [
      "Looking for /home/carlo/.keras-ocr/crnn_kurapan.h5\n"
     ]
    },
    {
     "name": "stderr",
     "output_type": "stream",
     "text": [
      "<timed exec>:236: FutureWarning: The frame.append method is deprecated and will be removed from pandas in a future version. Use pandas.concat instead.\n"
     ]
    },
    {
     "name": "stdout",
     "output_type": "stream",
     "text": [
      "../data/P006/V3/P006, L eye, V3, 6.0 - Density DP.png\n",
      "Looking for /home/carlo/.keras-ocr/craft_mlt_25k.h5\n"
     ]
    },
    {
     "name": "stderr",
     "output_type": "stream",
     "text": [
      "CUDA not available - defaulting to CPU. Note: This module is much faster with a GPU.\n"
     ]
    },
    {
     "name": "stdout",
     "output_type": "stream",
     "text": [
      "Looking for /home/carlo/.keras-ocr/crnn_kurapan.h5\n",
      "Looking for /home/carlo/.keras-ocr/craft_mlt_25k.h5\n"
     ]
    },
    {
     "name": "stderr",
     "output_type": "stream",
     "text": [
      "CUDA not available - defaulting to CPU. Note: This module is much faster with a GPU.\n"
     ]
    },
    {
     "name": "stdout",
     "output_type": "stream",
     "text": [
      "Looking for /home/carlo/.keras-ocr/crnn_kurapan.h5\n"
     ]
    },
    {
     "name": "stderr",
     "output_type": "stream",
     "text": [
      "<timed exec>:205: FutureWarning: The frame.append method is deprecated and will be removed from pandas in a future version. Use pandas.concat instead.\n"
     ]
    },
    {
     "name": "stdout",
     "output_type": "stream",
     "text": [
      "../data/P006/V3/P006, R eye, V3, 3.0 - Density SUP.png\n",
      "Looking for /home/carlo/.keras-ocr/craft_mlt_25k.h5\n"
     ]
    },
    {
     "name": "stderr",
     "output_type": "stream",
     "text": [
      "CUDA not available - defaulting to CPU. Note: This module is much faster with a GPU.\n"
     ]
    },
    {
     "name": "stdout",
     "output_type": "stream",
     "text": [
      "Looking for /home/carlo/.keras-ocr/crnn_kurapan.h5\n"
     ]
    },
    {
     "name": "stderr",
     "output_type": "stream",
     "text": [
      "<timed exec>:205: FutureWarning: The frame.append method is deprecated and will be removed from pandas in a future version. Use pandas.concat instead.\n"
     ]
    },
    {
     "name": "stdout",
     "output_type": "stream",
     "text": [
      "../data/P006/V3/P006, R eye, V3, 3.0 - Density DP.png\n",
      "Looking for /home/carlo/.keras-ocr/craft_mlt_25k.h5\n"
     ]
    },
    {
     "name": "stderr",
     "output_type": "stream",
     "text": [
      "CUDA not available - defaulting to CPU. Note: This module is much faster with a GPU.\n"
     ]
    },
    {
     "name": "stdout",
     "output_type": "stream",
     "text": [
      "Looking for /home/carlo/.keras-ocr/crnn_kurapan.h5\n",
      "Looking for /home/carlo/.keras-ocr/craft_mlt_25k.h5\n"
     ]
    },
    {
     "name": "stderr",
     "output_type": "stream",
     "text": [
      "CUDA not available - defaulting to CPU. Note: This module is much faster with a GPU.\n"
     ]
    },
    {
     "name": "stdout",
     "output_type": "stream",
     "text": [
      "Looking for /home/carlo/.keras-ocr/crnn_kurapan.h5\n"
     ]
    },
    {
     "name": "stderr",
     "output_type": "stream",
     "text": [
      "<timed exec>:205: FutureWarning: The frame.append method is deprecated and will be removed from pandas in a future version. Use pandas.concat instead.\n"
     ]
    },
    {
     "name": "stdout",
     "output_type": "stream",
     "text": [
      "../data/P001/V2/P001, R eye, V2, 3.0 - FAZ.png\n",
      "Looking for /home/carlo/.keras-ocr/craft_mlt_25k.h5\n"
     ]
    },
    {
     "name": "stderr",
     "output_type": "stream",
     "text": [
      "CUDA not available - defaulting to CPU. Note: This module is much faster with a GPU.\n"
     ]
    },
    {
     "name": "stdout",
     "output_type": "stream",
     "text": [
      "Looking for /home/carlo/.keras-ocr/crnn_kurapan.h5\n"
     ]
    },
    {
     "name": "stderr",
     "output_type": "stream",
     "text": [
      "<timed exec>:236: FutureWarning: The frame.append method is deprecated and will be removed from pandas in a future version. Use pandas.concat instead.\n"
     ]
    },
    {
     "name": "stdout",
     "output_type": "stream",
     "text": [
      "../data/P001/V2/P001, R eye, V2, 3.0 - Density DP.png\n",
      "Looking for /home/carlo/.keras-ocr/craft_mlt_25k.h5\n"
     ]
    },
    {
     "name": "stderr",
     "output_type": "stream",
     "text": [
      "CUDA not available - defaulting to CPU. Note: This module is much faster with a GPU.\n"
     ]
    },
    {
     "name": "stdout",
     "output_type": "stream",
     "text": [
      "Looking for /home/carlo/.keras-ocr/crnn_kurapan.h5\n"
     ]
    },
    {
     "name": "stderr",
     "output_type": "stream",
     "text": [
      "<timed exec>:205: FutureWarning: The frame.append method is deprecated and will be removed from pandas in a future version. Use pandas.concat instead.\n"
     ]
    },
    {
     "name": "stdout",
     "output_type": "stream",
     "text": [
      "../data/P001/V2/P001, R eye, V2, 6.0 - Density DP.png\n",
      "Looking for /home/carlo/.keras-ocr/craft_mlt_25k.h5\n"
     ]
    },
    {
     "name": "stderr",
     "output_type": "stream",
     "text": [
      "CUDA not available - defaulting to CPU. Note: This module is much faster with a GPU.\n"
     ]
    },
    {
     "name": "stdout",
     "output_type": "stream",
     "text": [
      "Looking for /home/carlo/.keras-ocr/crnn_kurapan.h5\n"
     ]
    },
    {
     "name": "stderr",
     "output_type": "stream",
     "text": [
      "<timed exec>:205: FutureWarning: The frame.append method is deprecated and will be removed from pandas in a future version. Use pandas.concat instead.\n"
     ]
    },
    {
     "name": "stdout",
     "output_type": "stream",
     "text": [
      "../data/P001/V2/P001, R eye, V2, 6.0 - Density SUP.png\n",
      "Looking for /home/carlo/.keras-ocr/craft_mlt_25k.h5\n"
     ]
    },
    {
     "name": "stderr",
     "output_type": "stream",
     "text": [
      "CUDA not available - defaulting to CPU. Note: This module is much faster with a GPU.\n"
     ]
    },
    {
     "name": "stdout",
     "output_type": "stream",
     "text": [
      "Looking for /home/carlo/.keras-ocr/crnn_kurapan.h5\n"
     ]
    },
    {
     "name": "stderr",
     "output_type": "stream",
     "text": [
      "<timed exec>:205: FutureWarning: The frame.append method is deprecated and will be removed from pandas in a future version. Use pandas.concat instead.\n"
     ]
    },
    {
     "name": "stdout",
     "output_type": "stream",
     "text": [
      "../data/P001/V2/P001, L eye, V2, 6.0 - Density SUP.png\n",
      "Looking for /home/carlo/.keras-ocr/craft_mlt_25k.h5\n"
     ]
    },
    {
     "name": "stderr",
     "output_type": "stream",
     "text": [
      "CUDA not available - defaulting to CPU. Note: This module is much faster with a GPU.\n"
     ]
    },
    {
     "name": "stdout",
     "output_type": "stream",
     "text": [
      "Looking for /home/carlo/.keras-ocr/crnn_kurapan.h5\n"
     ]
    },
    {
     "name": "stderr",
     "output_type": "stream",
     "text": [
      "<timed exec>:205: FutureWarning: The frame.append method is deprecated and will be removed from pandas in a future version. Use pandas.concat instead.\n"
     ]
    },
    {
     "name": "stdout",
     "output_type": "stream",
     "text": [
      "../data/P001/V2/P001, R eye, V2, 3.0 - Density SUP.png\n",
      "Looking for /home/carlo/.keras-ocr/craft_mlt_25k.h5\n"
     ]
    },
    {
     "name": "stderr",
     "output_type": "stream",
     "text": [
      "CUDA not available - defaulting to CPU. Note: This module is much faster with a GPU.\n"
     ]
    },
    {
     "name": "stdout",
     "output_type": "stream",
     "text": [
      "Looking for /home/carlo/.keras-ocr/crnn_kurapan.h5\n"
     ]
    },
    {
     "name": "stderr",
     "output_type": "stream",
     "text": [
      "<timed exec>:205: FutureWarning: The frame.append method is deprecated and will be removed from pandas in a future version. Use pandas.concat instead.\n"
     ]
    },
    {
     "name": "stdout",
     "output_type": "stream",
     "text": [
      "../data/P001/V2/P001, L eye, V2, 3.0 - FAZ.png\n",
      "Looking for /home/carlo/.keras-ocr/craft_mlt_25k.h5\n"
     ]
    },
    {
     "name": "stderr",
     "output_type": "stream",
     "text": [
      "CUDA not available - defaulting to CPU. Note: This module is much faster with a GPU.\n"
     ]
    },
    {
     "name": "stdout",
     "output_type": "stream",
     "text": [
      "Looking for /home/carlo/.keras-ocr/crnn_kurapan.h5\n"
     ]
    },
    {
     "name": "stderr",
     "output_type": "stream",
     "text": [
      "<timed exec>:236: FutureWarning: The frame.append method is deprecated and will be removed from pandas in a future version. Use pandas.concat instead.\n"
     ]
    },
    {
     "name": "stdout",
     "output_type": "stream",
     "text": [
      "../data/P001/V2/P001, L eye, V2, 3.0 - Density DP.png\n",
      "Looking for /home/carlo/.keras-ocr/craft_mlt_25k.h5\n"
     ]
    },
    {
     "name": "stderr",
     "output_type": "stream",
     "text": [
      "CUDA not available - defaulting to CPU. Note: This module is much faster with a GPU.\n"
     ]
    },
    {
     "name": "stdout",
     "output_type": "stream",
     "text": [
      "Looking for /home/carlo/.keras-ocr/crnn_kurapan.h5\n"
     ]
    },
    {
     "name": "stderr",
     "output_type": "stream",
     "text": [
      "<timed exec>:205: FutureWarning: The frame.append method is deprecated and will be removed from pandas in a future version. Use pandas.concat instead.\n"
     ]
    },
    {
     "name": "stdout",
     "output_type": "stream",
     "text": [
      "../data/P001/V2/P001, L eye, V2, 6.0 - FAZ.png\n",
      "Looking for /home/carlo/.keras-ocr/craft_mlt_25k.h5\n"
     ]
    },
    {
     "name": "stderr",
     "output_type": "stream",
     "text": [
      "CUDA not available - defaulting to CPU. Note: This module is much faster with a GPU.\n"
     ]
    },
    {
     "name": "stdout",
     "output_type": "stream",
     "text": [
      "Looking for /home/carlo/.keras-ocr/crnn_kurapan.h5\n"
     ]
    },
    {
     "name": "stderr",
     "output_type": "stream",
     "text": [
      "<timed exec>:236: FutureWarning: The frame.append method is deprecated and will be removed from pandas in a future version. Use pandas.concat instead.\n"
     ]
    },
    {
     "name": "stdout",
     "output_type": "stream",
     "text": [
      "../data/P001/V2/P001, L eye, V2, 6.0 - Density DP.png\n",
      "Looking for /home/carlo/.keras-ocr/craft_mlt_25k.h5\n"
     ]
    },
    {
     "name": "stderr",
     "output_type": "stream",
     "text": [
      "CUDA not available - defaulting to CPU. Note: This module is much faster with a GPU.\n"
     ]
    },
    {
     "name": "stdout",
     "output_type": "stream",
     "text": [
      "Looking for /home/carlo/.keras-ocr/crnn_kurapan.h5\n"
     ]
    },
    {
     "name": "stderr",
     "output_type": "stream",
     "text": [
      "<timed exec>:205: FutureWarning: The frame.append method is deprecated and will be removed from pandas in a future version. Use pandas.concat instead.\n"
     ]
    },
    {
     "name": "stdout",
     "output_type": "stream",
     "text": [
      "../data/P001/V2/P001, R eye, V2, 6.0 - FAZ.png\n",
      "Looking for /home/carlo/.keras-ocr/craft_mlt_25k.h5\n"
     ]
    },
    {
     "name": "stderr",
     "output_type": "stream",
     "text": [
      "CUDA not available - defaulting to CPU. Note: This module is much faster with a GPU.\n"
     ]
    },
    {
     "name": "stdout",
     "output_type": "stream",
     "text": [
      "Looking for /home/carlo/.keras-ocr/crnn_kurapan.h5\n"
     ]
    },
    {
     "name": "stderr",
     "output_type": "stream",
     "text": [
      "<timed exec>:236: FutureWarning: The frame.append method is deprecated and will be removed from pandas in a future version. Use pandas.concat instead.\n"
     ]
    },
    {
     "name": "stdout",
     "output_type": "stream",
     "text": [
      "../data/P001/V2/P001, L eye, V2, 3.0 - Density SUP.png\n",
      "Looking for /home/carlo/.keras-ocr/craft_mlt_25k.h5\n"
     ]
    },
    {
     "name": "stderr",
     "output_type": "stream",
     "text": [
      "CUDA not available - defaulting to CPU. Note: This module is much faster with a GPU.\n"
     ]
    },
    {
     "name": "stdout",
     "output_type": "stream",
     "text": [
      "Looking for /home/carlo/.keras-ocr/crnn_kurapan.h5\n"
     ]
    },
    {
     "name": "stderr",
     "output_type": "stream",
     "text": [
      "<timed exec>:205: FutureWarning: The frame.append method is deprecated and will be removed from pandas in a future version. Use pandas.concat instead.\n"
     ]
    },
    {
     "name": "stdout",
     "output_type": "stream",
     "text": [
      "../data/P001/V3/P001, R eye, V3, 3.0 - Density DP.png\n",
      "Looking for /home/carlo/.keras-ocr/craft_mlt_25k.h5\n"
     ]
    },
    {
     "name": "stderr",
     "output_type": "stream",
     "text": [
      "CUDA not available - defaulting to CPU. Note: This module is much faster with a GPU.\n"
     ]
    },
    {
     "name": "stdout",
     "output_type": "stream",
     "text": [
      "Looking for /home/carlo/.keras-ocr/crnn_kurapan.h5\n"
     ]
    },
    {
     "name": "stderr",
     "output_type": "stream",
     "text": [
      "<timed exec>:205: FutureWarning: The frame.append method is deprecated and will be removed from pandas in a future version. Use pandas.concat instead.\n"
     ]
    },
    {
     "name": "stdout",
     "output_type": "stream",
     "text": [
      "../data/P001/V3/P001, R eye, V3, 6.0 - Density SUP.png\n",
      "Looking for /home/carlo/.keras-ocr/craft_mlt_25k.h5\n"
     ]
    },
    {
     "name": "stderr",
     "output_type": "stream",
     "text": [
      "CUDA not available - defaulting to CPU. Note: This module is much faster with a GPU.\n"
     ]
    },
    {
     "name": "stdout",
     "output_type": "stream",
     "text": [
      "Looking for /home/carlo/.keras-ocr/crnn_kurapan.h5\n"
     ]
    },
    {
     "name": "stderr",
     "output_type": "stream",
     "text": [
      "<timed exec>:205: FutureWarning: The frame.append method is deprecated and will be removed from pandas in a future version. Use pandas.concat instead.\n"
     ]
    },
    {
     "name": "stdout",
     "output_type": "stream",
     "text": [
      "../data/P001/V3/P001, R eye, V3, 3.0 - FAZ.png\n",
      "Looking for /home/carlo/.keras-ocr/craft_mlt_25k.h5\n"
     ]
    },
    {
     "name": "stderr",
     "output_type": "stream",
     "text": [
      "CUDA not available - defaulting to CPU. Note: This module is much faster with a GPU.\n"
     ]
    },
    {
     "name": "stdout",
     "output_type": "stream",
     "text": [
      "Looking for /home/carlo/.keras-ocr/crnn_kurapan.h5\n"
     ]
    },
    {
     "name": "stderr",
     "output_type": "stream",
     "text": [
      "<timed exec>:236: FutureWarning: The frame.append method is deprecated and will be removed from pandas in a future version. Use pandas.concat instead.\n"
     ]
    },
    {
     "name": "stdout",
     "output_type": "stream",
     "text": [
      "../data/P001/V3/P001, R eye, V3, 3.0 - Density SUP.png\n",
      "Looking for /home/carlo/.keras-ocr/craft_mlt_25k.h5\n"
     ]
    },
    {
     "name": "stderr",
     "output_type": "stream",
     "text": [
      "CUDA not available - defaulting to CPU. Note: This module is much faster with a GPU.\n"
     ]
    },
    {
     "name": "stdout",
     "output_type": "stream",
     "text": [
      "Looking for /home/carlo/.keras-ocr/crnn_kurapan.h5\n"
     ]
    },
    {
     "name": "stderr",
     "output_type": "stream",
     "text": [
      "<timed exec>:205: FutureWarning: The frame.append method is deprecated and will be removed from pandas in a future version. Use pandas.concat instead.\n"
     ]
    },
    {
     "name": "stdout",
     "output_type": "stream",
     "text": [
      "../data/P001/V3/P001, R eye, V3, 6.0 - FAZ.png\n",
      "Looking for /home/carlo/.keras-ocr/craft_mlt_25k.h5\n"
     ]
    },
    {
     "name": "stderr",
     "output_type": "stream",
     "text": [
      "CUDA not available - defaulting to CPU. Note: This module is much faster with a GPU.\n"
     ]
    },
    {
     "name": "stdout",
     "output_type": "stream",
     "text": [
      "Looking for /home/carlo/.keras-ocr/crnn_kurapan.h5\n"
     ]
    },
    {
     "name": "stderr",
     "output_type": "stream",
     "text": [
      "<timed exec>:236: FutureWarning: The frame.append method is deprecated and will be removed from pandas in a future version. Use pandas.concat instead.\n"
     ]
    },
    {
     "name": "stdout",
     "output_type": "stream",
     "text": [
      "../data/P001/V3/P001, R eye, V3, 6.0 - Density DP.png\n",
      "Looking for /home/carlo/.keras-ocr/craft_mlt_25k.h5\n"
     ]
    },
    {
     "name": "stderr",
     "output_type": "stream",
     "text": [
      "CUDA not available - defaulting to CPU. Note: This module is much faster with a GPU.\n"
     ]
    },
    {
     "name": "stdout",
     "output_type": "stream",
     "text": [
      "Looking for /home/carlo/.keras-ocr/crnn_kurapan.h5\n"
     ]
    },
    {
     "name": "stderr",
     "output_type": "stream",
     "text": [
      "<timed exec>:205: FutureWarning: The frame.append method is deprecated and will be removed from pandas in a future version. Use pandas.concat instead.\n"
     ]
    },
    {
     "name": "stdout",
     "output_type": "stream",
     "text": [
      "../data/P002/V2/P002, R eye, V2, 3.0 - Density SUP.png\n",
      "Looking for /home/carlo/.keras-ocr/craft_mlt_25k.h5\n"
     ]
    },
    {
     "name": "stderr",
     "output_type": "stream",
     "text": [
      "CUDA not available - defaulting to CPU. Note: This module is much faster with a GPU.\n"
     ]
    },
    {
     "name": "stdout",
     "output_type": "stream",
     "text": [
      "Looking for /home/carlo/.keras-ocr/crnn_kurapan.h5\n"
     ]
    },
    {
     "name": "stderr",
     "output_type": "stream",
     "text": [
      "<timed exec>:205: FutureWarning: The frame.append method is deprecated and will be removed from pandas in a future version. Use pandas.concat instead.\n"
     ]
    },
    {
     "name": "stdout",
     "output_type": "stream",
     "text": [
      "../data/P002/V2/P002, L eye, V2, 3.0 - Density DP.png\n",
      "Looking for /home/carlo/.keras-ocr/craft_mlt_25k.h5\n"
     ]
    },
    {
     "name": "stderr",
     "output_type": "stream",
     "text": [
      "CUDA not available - defaulting to CPU. Note: This module is much faster with a GPU.\n"
     ]
    },
    {
     "name": "stdout",
     "output_type": "stream",
     "text": [
      "Looking for /home/carlo/.keras-ocr/crnn_kurapan.h5\n"
     ]
    },
    {
     "name": "stderr",
     "output_type": "stream",
     "text": [
      "<timed exec>:205: FutureWarning: The frame.append method is deprecated and will be removed from pandas in a future version. Use pandas.concat instead.\n"
     ]
    },
    {
     "name": "stdout",
     "output_type": "stream",
     "text": [
      "../data/P002/V2/P002, L eye, V2, 3.0 - FAZ.png\n",
      "Looking for /home/carlo/.keras-ocr/craft_mlt_25k.h5\n"
     ]
    },
    {
     "name": "stderr",
     "output_type": "stream",
     "text": [
      "CUDA not available - defaulting to CPU. Note: This module is much faster with a GPU.\n"
     ]
    },
    {
     "name": "stdout",
     "output_type": "stream",
     "text": [
      "Looking for /home/carlo/.keras-ocr/crnn_kurapan.h5\n"
     ]
    },
    {
     "name": "stderr",
     "output_type": "stream",
     "text": [
      "<timed exec>:236: FutureWarning: The frame.append method is deprecated and will be removed from pandas in a future version. Use pandas.concat instead.\n"
     ]
    },
    {
     "name": "stdout",
     "output_type": "stream",
     "text": [
      "../data/P002/V2/P002, R eye, V2, 6.0 - FAZ.png\n",
      "Looking for /home/carlo/.keras-ocr/craft_mlt_25k.h5\n"
     ]
    },
    {
     "name": "stderr",
     "output_type": "stream",
     "text": [
      "CUDA not available - defaulting to CPU. Note: This module is much faster with a GPU.\n"
     ]
    },
    {
     "name": "stdout",
     "output_type": "stream",
     "text": [
      "Looking for /home/carlo/.keras-ocr/crnn_kurapan.h5\n"
     ]
    },
    {
     "name": "stderr",
     "output_type": "stream",
     "text": [
      "<timed exec>:236: FutureWarning: The frame.append method is deprecated and will be removed from pandas in a future version. Use pandas.concat instead.\n"
     ]
    },
    {
     "name": "stdout",
     "output_type": "stream",
     "text": [
      "../data/P002/V2/P002, R eye, V2, 3.0 - Density DP.png\n",
      "Looking for /home/carlo/.keras-ocr/craft_mlt_25k.h5\n"
     ]
    },
    {
     "name": "stderr",
     "output_type": "stream",
     "text": [
      "CUDA not available - defaulting to CPU. Note: This module is much faster with a GPU.\n"
     ]
    },
    {
     "name": "stdout",
     "output_type": "stream",
     "text": [
      "Looking for /home/carlo/.keras-ocr/crnn_kurapan.h5\n"
     ]
    },
    {
     "name": "stderr",
     "output_type": "stream",
     "text": [
      "<timed exec>:205: FutureWarning: The frame.append method is deprecated and will be removed from pandas in a future version. Use pandas.concat instead.\n"
     ]
    },
    {
     "name": "stdout",
     "output_type": "stream",
     "text": [
      "../data/P002/V2/P002, R eye, V2, 6.0 - Density DP.png\n",
      "Looking for /home/carlo/.keras-ocr/craft_mlt_25k.h5\n"
     ]
    },
    {
     "name": "stderr",
     "output_type": "stream",
     "text": [
      "CUDA not available - defaulting to CPU. Note: This module is much faster with a GPU.\n"
     ]
    },
    {
     "name": "stdout",
     "output_type": "stream",
     "text": [
      "Looking for /home/carlo/.keras-ocr/crnn_kurapan.h5\n"
     ]
    },
    {
     "name": "stderr",
     "output_type": "stream",
     "text": [
      "<timed exec>:205: FutureWarning: The frame.append method is deprecated and will be removed from pandas in a future version. Use pandas.concat instead.\n"
     ]
    },
    {
     "name": "stdout",
     "output_type": "stream",
     "text": [
      "../data/P002/V2/P002, R eye, V2, 3.0 - FAZ.png\n",
      "Looking for /home/carlo/.keras-ocr/craft_mlt_25k.h5\n"
     ]
    },
    {
     "name": "stderr",
     "output_type": "stream",
     "text": [
      "CUDA not available - defaulting to CPU. Note: This module is much faster with a GPU.\n"
     ]
    },
    {
     "name": "stdout",
     "output_type": "stream",
     "text": [
      "Looking for /home/carlo/.keras-ocr/crnn_kurapan.h5\n"
     ]
    },
    {
     "name": "stderr",
     "output_type": "stream",
     "text": [
      "<timed exec>:236: FutureWarning: The frame.append method is deprecated and will be removed from pandas in a future version. Use pandas.concat instead.\n"
     ]
    },
    {
     "name": "stdout",
     "output_type": "stream",
     "text": [
      "../data/P002/V2/P002, R eye, V2, 6.0 - Density SUP.png\n",
      "Looking for /home/carlo/.keras-ocr/craft_mlt_25k.h5\n"
     ]
    },
    {
     "name": "stderr",
     "output_type": "stream",
     "text": [
      "CUDA not available - defaulting to CPU. Note: This module is much faster with a GPU.\n"
     ]
    },
    {
     "name": "stdout",
     "output_type": "stream",
     "text": [
      "Looking for /home/carlo/.keras-ocr/crnn_kurapan.h5\n"
     ]
    },
    {
     "name": "stderr",
     "output_type": "stream",
     "text": [
      "<timed exec>:205: FutureWarning: The frame.append method is deprecated and will be removed from pandas in a future version. Use pandas.concat instead.\n"
     ]
    },
    {
     "name": "stdout",
     "output_type": "stream",
     "text": [
      "../data/P002/V2/P002, L eye, V2, 3.0 - Density SUP.png\n",
      "Looking for /home/carlo/.keras-ocr/craft_mlt_25k.h5\n"
     ]
    },
    {
     "name": "stderr",
     "output_type": "stream",
     "text": [
      "CUDA not available - defaulting to CPU. Note: This module is much faster with a GPU.\n"
     ]
    },
    {
     "name": "stdout",
     "output_type": "stream",
     "text": [
      "Looking for /home/carlo/.keras-ocr/crnn_kurapan.h5\n"
     ]
    },
    {
     "name": "stderr",
     "output_type": "stream",
     "text": [
      "<timed exec>:205: FutureWarning: The frame.append method is deprecated and will be removed from pandas in a future version. Use pandas.concat instead.\n"
     ]
    },
    {
     "name": "stdout",
     "output_type": "stream",
     "text": [
      "../data/P002/V3/P002, R eye, V3, 6.0 - Density SUP.png\n",
      "Looking for /home/carlo/.keras-ocr/craft_mlt_25k.h5\n"
     ]
    },
    {
     "name": "stderr",
     "output_type": "stream",
     "text": [
      "CUDA not available - defaulting to CPU. Note: This module is much faster with a GPU.\n"
     ]
    },
    {
     "name": "stdout",
     "output_type": "stream",
     "text": [
      "Looking for /home/carlo/.keras-ocr/crnn_kurapan.h5\n"
     ]
    },
    {
     "name": "stderr",
     "output_type": "stream",
     "text": [
      "<timed exec>:205: FutureWarning: The frame.append method is deprecated and will be removed from pandas in a future version. Use pandas.concat instead.\n"
     ]
    },
    {
     "name": "stdout",
     "output_type": "stream",
     "text": [
      "../data/P002/V3/P002, R eye, V3, 6.0 - FAZ.png\n",
      "Looking for /home/carlo/.keras-ocr/craft_mlt_25k.h5\n"
     ]
    },
    {
     "name": "stderr",
     "output_type": "stream",
     "text": [
      "CUDA not available - defaulting to CPU. Note: This module is much faster with a GPU.\n"
     ]
    },
    {
     "name": "stdout",
     "output_type": "stream",
     "text": [
      "Looking for /home/carlo/.keras-ocr/crnn_kurapan.h5\n"
     ]
    },
    {
     "name": "stderr",
     "output_type": "stream",
     "text": [
      "<timed exec>:236: FutureWarning: The frame.append method is deprecated and will be removed from pandas in a future version. Use pandas.concat instead.\n"
     ]
    },
    {
     "name": "stdout",
     "output_type": "stream",
     "text": [
      "../data/P002/V3/P002, L eye, V3, 6.0 - Density SUP.png\n",
      "Looking for /home/carlo/.keras-ocr/craft_mlt_25k.h5\n"
     ]
    },
    {
     "name": "stderr",
     "output_type": "stream",
     "text": [
      "CUDA not available - defaulting to CPU. Note: This module is much faster with a GPU.\n"
     ]
    },
    {
     "name": "stdout",
     "output_type": "stream",
     "text": [
      "Looking for /home/carlo/.keras-ocr/crnn_kurapan.h5\n"
     ]
    },
    {
     "name": "stderr",
     "output_type": "stream",
     "text": [
      "<timed exec>:205: FutureWarning: The frame.append method is deprecated and will be removed from pandas in a future version. Use pandas.concat instead.\n"
     ]
    },
    {
     "name": "stdout",
     "output_type": "stream",
     "text": [
      "../data/P002/V3/P002, L eye, V3, 3.0 - Density DP.png\n",
      "Looking for /home/carlo/.keras-ocr/craft_mlt_25k.h5\n"
     ]
    },
    {
     "name": "stderr",
     "output_type": "stream",
     "text": [
      "CUDA not available - defaulting to CPU. Note: This module is much faster with a GPU.\n"
     ]
    },
    {
     "name": "stdout",
     "output_type": "stream",
     "text": [
      "Looking for /home/carlo/.keras-ocr/crnn_kurapan.h5\n"
     ]
    },
    {
     "name": "stderr",
     "output_type": "stream",
     "text": [
      "<timed exec>:205: FutureWarning: The frame.append method is deprecated and will be removed from pandas in a future version. Use pandas.concat instead.\n"
     ]
    },
    {
     "name": "stdout",
     "output_type": "stream",
     "text": [
      "../data/P002/V3/P002, R eye, V3, 3.0 - Density SUP.png\n",
      "Looking for /home/carlo/.keras-ocr/craft_mlt_25k.h5\n"
     ]
    },
    {
     "name": "stderr",
     "output_type": "stream",
     "text": [
      "CUDA not available - defaulting to CPU. Note: This module is much faster with a GPU.\n"
     ]
    },
    {
     "name": "stdout",
     "output_type": "stream",
     "text": [
      "Looking for /home/carlo/.keras-ocr/crnn_kurapan.h5\n"
     ]
    },
    {
     "name": "stderr",
     "output_type": "stream",
     "text": [
      "<timed exec>:205: FutureWarning: The frame.append method is deprecated and will be removed from pandas in a future version. Use pandas.concat instead.\n"
     ]
    },
    {
     "name": "stdout",
     "output_type": "stream",
     "text": [
      "../data/P002/V3/P002, R eye, V3, 3.0 - Density DP.png\n",
      "Looking for /home/carlo/.keras-ocr/craft_mlt_25k.h5\n"
     ]
    },
    {
     "name": "stderr",
     "output_type": "stream",
     "text": [
      "CUDA not available - defaulting to CPU. Note: This module is much faster with a GPU.\n"
     ]
    },
    {
     "name": "stdout",
     "output_type": "stream",
     "text": [
      "Looking for /home/carlo/.keras-ocr/crnn_kurapan.h5\n"
     ]
    },
    {
     "name": "stderr",
     "output_type": "stream",
     "text": [
      "<timed exec>:205: FutureWarning: The frame.append method is deprecated and will be removed from pandas in a future version. Use pandas.concat instead.\n"
     ]
    },
    {
     "name": "stdout",
     "output_type": "stream",
     "text": [
      "../data/P002/V3/P002, R eye, V3, 6.0 - Density DP.png\n",
      "Looking for /home/carlo/.keras-ocr/craft_mlt_25k.h5\n"
     ]
    },
    {
     "name": "stderr",
     "output_type": "stream",
     "text": [
      "CUDA not available - defaulting to CPU. Note: This module is much faster with a GPU.\n"
     ]
    },
    {
     "name": "stdout",
     "output_type": "stream",
     "text": [
      "Looking for /home/carlo/.keras-ocr/crnn_kurapan.h5\n"
     ]
    },
    {
     "name": "stderr",
     "output_type": "stream",
     "text": [
      "<timed exec>:205: FutureWarning: The frame.append method is deprecated and will be removed from pandas in a future version. Use pandas.concat instead.\n"
     ]
    },
    {
     "name": "stdout",
     "output_type": "stream",
     "text": [
      "../data/P002/V3/P002, R eye, V3, 3.0 - FAZ.png\n",
      "Looking for /home/carlo/.keras-ocr/craft_mlt_25k.h5\n"
     ]
    },
    {
     "name": "stderr",
     "output_type": "stream",
     "text": [
      "CUDA not available - defaulting to CPU. Note: This module is much faster with a GPU.\n"
     ]
    },
    {
     "name": "stdout",
     "output_type": "stream",
     "text": [
      "Looking for /home/carlo/.keras-ocr/crnn_kurapan.h5\n"
     ]
    },
    {
     "name": "stderr",
     "output_type": "stream",
     "text": [
      "<timed exec>:236: FutureWarning: The frame.append method is deprecated and will be removed from pandas in a future version. Use pandas.concat instead.\n"
     ]
    },
    {
     "name": "stdout",
     "output_type": "stream",
     "text": [
      "../data/P002/V3/P002, L eye, V3, 3.0 - Density SUP.png\n",
      "Looking for /home/carlo/.keras-ocr/craft_mlt_25k.h5\n"
     ]
    },
    {
     "name": "stderr",
     "output_type": "stream",
     "text": [
      "CUDA not available - defaulting to CPU. Note: This module is much faster with a GPU.\n"
     ]
    },
    {
     "name": "stdout",
     "output_type": "stream",
     "text": [
      "Looking for /home/carlo/.keras-ocr/crnn_kurapan.h5\n"
     ]
    },
    {
     "name": "stderr",
     "output_type": "stream",
     "text": [
      "<timed exec>:205: FutureWarning: The frame.append method is deprecated and will be removed from pandas in a future version. Use pandas.concat instead.\n"
     ]
    },
    {
     "name": "stdout",
     "output_type": "stream",
     "text": [
      "../data/P002/V3/P002, L eye, V3, 6.0 - Density DP.png\n",
      "Looking for /home/carlo/.keras-ocr/craft_mlt_25k.h5\n"
     ]
    },
    {
     "name": "stderr",
     "output_type": "stream",
     "text": [
      "CUDA not available - defaulting to CPU. Note: This module is much faster with a GPU.\n"
     ]
    },
    {
     "name": "stdout",
     "output_type": "stream",
     "text": [
      "Looking for /home/carlo/.keras-ocr/crnn_kurapan.h5\n"
     ]
    },
    {
     "name": "stderr",
     "output_type": "stream",
     "text": [
      "<timed exec>:205: FutureWarning: The frame.append method is deprecated and will be removed from pandas in a future version. Use pandas.concat instead.\n"
     ]
    },
    {
     "name": "stdout",
     "output_type": "stream",
     "text": [
      "../data/P002/V3/P002, L eye, V3, 3.0 - FAZ.png\n",
      "Looking for /home/carlo/.keras-ocr/craft_mlt_25k.h5\n"
     ]
    },
    {
     "name": "stderr",
     "output_type": "stream",
     "text": [
      "CUDA not available - defaulting to CPU. Note: This module is much faster with a GPU.\n"
     ]
    },
    {
     "name": "stdout",
     "output_type": "stream",
     "text": [
      "Looking for /home/carlo/.keras-ocr/crnn_kurapan.h5\n"
     ]
    },
    {
     "name": "stderr",
     "output_type": "stream",
     "text": [
      "<timed exec>:236: FutureWarning: The frame.append method is deprecated and will be removed from pandas in a future version. Use pandas.concat instead.\n"
     ]
    },
    {
     "name": "stdout",
     "output_type": "stream",
     "text": [
      "../data/P002/V3/P002, L eye, V3, 6.0 - FAZ.png\n",
      "Looking for /home/carlo/.keras-ocr/craft_mlt_25k.h5\n"
     ]
    },
    {
     "name": "stderr",
     "output_type": "stream",
     "text": [
      "CUDA not available - defaulting to CPU. Note: This module is much faster with a GPU.\n"
     ]
    },
    {
     "name": "stdout",
     "output_type": "stream",
     "text": [
      "Looking for /home/carlo/.keras-ocr/crnn_kurapan.h5\n",
      "CPU times: user 13min 14s, sys: 24.8 s, total: 13min 39s\n",
      "Wall time: 8min 5s\n"
     ]
    },
    {
     "name": "stderr",
     "output_type": "stream",
     "text": [
      "<timed exec>:236: FutureWarning: The frame.append method is deprecated and will be removed from pandas in a future version. Use pandas.concat instead.\n"
     ]
    }
   ],
   "source": [
    "%%time\n",
    "cols=[\n",
    " 'QUALITY',\n",
    " 'depth_whole',\n",
    " 'depth_sup hemi',\n",
    " 'depth_inf hemi',\n",
    " 'depth_fovea',\n",
    " 'depth_parafovea',\n",
    " 'depth_para_sup hemi',\n",
    " 'depth_parai_inf hemi',\n",
    " 'depth_para temp',\n",
    " 'depth_para_sup',\n",
    " 'depth_para_nasal',\n",
    " 'depth_para_inf',\n",
    " 'depth_perifovea',\n",
    " 'depth_peri_sup hemi',\n",
    " 'depth_peri_inf hemi',\n",
    " 'depth_peri_tempo ',\n",
    " 'depth_peri_sup',\n",
    " 'depth_peri_nasal',\n",
    " 'depth_peri_inf',\n",
    " 'thick_whole',\n",
    " 'thick_sup hemi',\n",
    " 'thick_inf hemi',\n",
    " 'thick_fovea',\n",
    " 'thick_parafovea',\n",
    " 'thick_para_sup hemi',\n",
    " 'thick_parai_inf hemi',\n",
    " 'thick_para temp',\n",
    " 'thick_para_sup',\n",
    " 'thick_para_nasal',\n",
    " 'thick_para_inf',\n",
    " 'thick_perifovea',\n",
    " 'thick_peri_sup hemi',\n",
    " 'thick_peri_inf hemi',\n",
    " 'thick_peri_tempo ',\n",
    " 'thick_peri_sup',\n",
    " 'thick_peri_nasal',\n",
    " 'thick_peri_inf',\n",
    " 'grid_v_d1',\n",
    " 'grid_v_d2',\n",
    " 'grid_v_d3',\n",
    " 'grid_v_d4',\n",
    " 'grid_v_d5',\n",
    " 'grid_v_d6',\n",
    " 'grid_v_d7',\n",
    " 'grid_v_d8',\n",
    " 'grid_v_d9',\n",
    " 'area (mm2)',\n",
    " 'perim (mm)',\n",
    " 'FD']\n",
    "\n",
    "errors_top=[]\n",
    "errors_bot=[]\n",
    "errors_qual=[]\n",
    "error_faz=[]\n",
    "\n",
    "df=pd.DataFrame(columns=['pat','v','eye','depth']+cols) # MAKE THE COLUMNS, cols come from readin the sheet.\n",
    "for file in files:\n",
    "    print(file)\n",
    "    pat=file.split('/')[2]\n",
    "    v=file.split('/')[3]\n",
    "    eye=file.split(',')[1].strip()\n",
    "    depth=file.split(',')[3].split('-')[0].strip()\n",
    "    fdelete = glob('evaluate/*')\n",
    "    for f in fdelete:\n",
    "        os.remove(f)\n",
    "    if 'Density' in file:\n",
    "        specification='SUP' if 'SUP' in file else 'DP'\n",
    "        im = Image.open(file)\n",
    "\n",
    "        cropped_top1= im.crop((crops['densities']['table_top_left']['l'],\n",
    "                              crops['densities']['table_top_left']['t'],\n",
    "                              crops['densities']['table_top_left']['r'],\n",
    "                              crops['densities']['table_top_left']['b']))\n",
    "        cropped_top2= im.crop((crops['densities']['table_top_right']['l'],\n",
    "                              crops['densities']['table_top_right']['t'],\n",
    "                              crops['densities']['table_top_right']['r'],\n",
    "                              crops['densities']['table_top_right']['b']))\n",
    "        \n",
    "        cropped_bot= im.crop((crops['densities']['table_bot']['l'],\n",
    "                              crops['densities']['table_bot']['t'],\n",
    "                              crops['densities']['table_bot']['r'],\n",
    "                              crops['densities']['table_bot']['b']))\n",
    "        cropped_qual= im.crop((crops['densities']['quality']['l'],\n",
    "                               crops['densities']['quality']['t'],\n",
    "                               crops['densities']['quality']['r'],\n",
    "                               crops['densities']['quality']['b']))\n",
    "        cropped_top1.save('evaluate/cropped_top1.png')\n",
    "        cropped_top2.save('evaluate/cropped_top2.png')\n",
    "        cropped_bot.save('evaluate/cropped_bot.png')\n",
    "        cropped_qual.save('evaluate/cropped_quality.png')\n",
    "        ocr=OCR(image_folder=\"evaluate/\")\n",
    "        results=ocr.easyocr_model_works(visualization=False)  \n",
    "        temp={   'QUALITY': np.nan,\n",
    "                 'depth_whole': np.nan,\n",
    "                 'depth_sup hemi': np.nan,\n",
    "                 'depth_inf hemi': np.nan,\n",
    "                 'depth_fovea': np.nan,\n",
    "                 'depth_parafovea': np.nan,\n",
    "                 'depth_para_sup hemi': np.nan,\n",
    "                 'depth_parai_inf hemi': np.nan,\n",
    "                 'depth_para temp': np.nan,\n",
    "                 'depth_para_sup': np.nan,\n",
    "                 'depth_para_nasal': np.nan,\n",
    "                 'depth_para_inf': np.nan,\n",
    "                 'depth_perifovea': np.nan,\n",
    "                 'depth_peri_sup hemi': np.nan,\n",
    "                 'depth_peri_inf hemi': np.nan,\n",
    "                 'depth_peri_tempo ': np.nan,\n",
    "                 'depth_peri_sup': np.nan,\n",
    "                 'depth_peri_nasal': np.nan,\n",
    "                 'depth_peri_inf': np.nan,\n",
    "                 'thick_whole': np.nan,\n",
    "                 'thick_sup hemi': np.nan,\n",
    "                 'thick_inf hemi': np.nan,\n",
    "                 'thick_fovea': np.nan,\n",
    "                 'thick_parafovea': np.nan,\n",
    "                 'thick_para_sup hemi': np.nan,\n",
    "                 'thick_parai_inf hemi': np.nan,\n",
    "                 'thick_para temp': np.nan,\n",
    "                 'thick_para_sup': np.nan,\n",
    "                 'thick_para_nasal': np.nan,\n",
    "                 'thick_para_inf': np.nan,\n",
    "                 'thick_perifovea': np.nan,\n",
    "                 'thick_peri_sup hemi': np.nan,\n",
    "                 'thick_peri_inf hemi': np.nan,\n",
    "                 'thick_peri_tempo ': np.nan,\n",
    "                 'thick_peri_sup': np.nan,\n",
    "                 'thick_peri_nasal': np.nan,\n",
    "                 'thick_peri_inf': np.nan,\n",
    "                 'grid_v_d1': np.nan,\n",
    "                 'grid_v_d2': np.nan,\n",
    "                 'grid_v_d3': np.nan,\n",
    "                 'grid_v_d4': np.nan,\n",
    "                 'grid_v_d5': np.nan,\n",
    "                 'grid_v_d6': np.nan,\n",
    "                 'grid_v_d7': np.nan,\n",
    "                 'grid_v_d8': np.nan,\n",
    "                 'grid_v_d9':np.nan\n",
    "                }\n",
    "##################################################################################QUALITY\n",
    "        try:\n",
    "            qual=results[2][0][1]\n",
    "            temp[list(temp.keys())[0]]=qual\n",
    "        except Exception as e:\n",
    "            errors_qual.append(['quality_error in',file,e,])\n",
    "            cropped_top1= im.crop((crops['densities']['table_top_left']['l'],\n",
    "                                  crops['densities']['table_top_left']['t']+215,\n",
    "                                  crops['densities']['table_top_left']['r'],\n",
    "                                  crops['densities']['table_top_left']['b']+215))\n",
    "            cropped_top2= im.crop((crops['densities']['table_top_right']['l'],\n",
    "                                  crops['densities']['table_top_right']['t']+215,\n",
    "                                  crops['densities']['table_top_right']['r'],\n",
    "                                  crops['densities']['table_top_right']['b']+215))\n",
    "\n",
    "            cropped_bot= im.crop((crops['densities']['table_bot']['l'],\n",
    "                                  crops['densities']['table_bot']['t']+215,\n",
    "                                  crops['densities']['table_bot']['r'],\n",
    "                                  crops['densities']['table_bot']['b']+215))\n",
    "            cropped_qual= im.crop((crops['densities']['quality']['l'],\n",
    "                                   crops['densities']['quality']['t']+215,\n",
    "                                   crops['densities']['quality']['r'],\n",
    "                                   crops['densities']['quality']['b']+215))\n",
    "            cropped_top1.save('evaluate/cropped_top1.png')\n",
    "            cropped_top2.save('evaluate/cropped_top2.png')\n",
    "            cropped_bot.save('evaluate/cropped_bot.png')\n",
    "            cropped_qual.save('evaluate/cropped_quality.png')\n",
    "            ocr=OCR(image_folder=\"evaluate/\")\n",
    "            results=ocr.easyocr_model_works(visualization=False)  \n",
    "            try:\n",
    "                qual=results[2][0][1]\n",
    "                temp[list(temp.keys())[0]]=qual\n",
    "            except Exception as ee:\n",
    "                errors_qual.append(['Definite quality error in ',file,ee])\n",
    "##################################################################################TABLE TOP\n",
    "#         data_lin=np.array(results[1],dtype=object)[:,1]\n",
    "        \n",
    "#             data_2d=np.split(data_lin,data_lin.shape[0]/3) # data_2d=[data_lin[i:i+3] for i in range(0, data_lin.shape[0], 3)]\n",
    "#             df_top=pd.DataFrame(data_2d)\n",
    "#             data_lin=zip(np.array(results[0],dtype=object)[:,1],\n",
    "#             np.array(results[3],dtype=object)[:,1])\n",
    "        try:\n",
    "            data_2d=zip(np.array(results[3],dtype=object)[:,1],np.array(results[0],dtype=object)[:,1])\n",
    "            df_top=pd.DataFrame(data_2d)\n",
    "            for i,val in enumerate(df_top[0].values,start=1):\n",
    "                temp[list(temp.keys())[i]]=val\n",
    "            for i,val in enumerate(df_top[1].values,start=19):\n",
    "                temp[list(temp.keys())[i]]=val\n",
    "        except Exception as e:\n",
    "            errors_top.append(['top_error in',file,e])\n",
    "            \n",
    "##################################################################################TABLE BOT\n",
    "        data_lin=np.array(results[1],dtype=object)[:,1]\n",
    "        try:\n",
    "            data_2d=np.split(data_lin,data_lin.shape[0]/3)\n",
    "            df_bot=pd.DataFrame(data_2d)\n",
    "            df_bot_list=flatten(df_bot.values.tolist())\n",
    "            for i,val in enumerate(df_bot_list,start=37):\n",
    "                temp[list(temp.keys())[i]]=val\n",
    "            temp['pat']  = pat\n",
    "            temp['v']    = v\n",
    "            temp['eye']  = eye\n",
    "            temp['depth']= depth\n",
    "            temp['specification']=specification\n",
    "            df=df.append(\n",
    "                temp,\n",
    "                ignore_index=True)\n",
    "        except Exception as e:\n",
    "            errors_bot.append(['bot_error in',file,e])\n",
    "#####################################################################\n",
    "#####################################################################  FAZ\n",
    "#####################################################################\n",
    "    elif 'FAZ' in file:\n",
    "        specification='FAZ'\n",
    "        im = Image.open(file)\n",
    "        cropped_values= im.crop((crops['faz']['values']['l'],\n",
    "                                 crops['faz']['values']['t'],\n",
    "                                 crops['faz']['values']['r'],\n",
    "                                 crops['faz']['values']['b']))\n",
    "\n",
    "        cropped_qual= im.crop((crops['faz']['quality']['l'],\n",
    "                               crops['faz']['quality']['t'],\n",
    "                               crops['faz']['quality']['r'],\n",
    "                               crops['faz']['quality']['b']))\n",
    "        cropped_values.save('evaluate/cropped_values.png')\n",
    "        cropped_qual.save('evaluate/cropped_quality.png')\n",
    "        ocr=OCR(image_folder=\"evaluate/\")\n",
    "        results=ocr.easyocr_model_works(visualization=False)\n",
    "        try:\n",
    "            temp=string=' '.join([result[1] for result in results[0]]) #extracting all the ugly strings from OCR for first 3 values\n",
    "            clean_3=re.findall(r\"[-+]?(?:\\d*\\.\\d+|\\d+)\", temp)         #regex to extract only the numbers\n",
    "            last=string=' '.join([result[1] for result in results[1]]) #extract quality\n",
    "            if type(last) is not list:\n",
    "                last=[last]\n",
    "            res_clean=clean_3+last\n",
    "\n",
    "            df=df.append({\n",
    "                'pat':pat,\n",
    "                'v':v,\n",
    "                'eye':eye,\n",
    "                'depth':depth,\n",
    "                'area (mm2)':res_clean[0],\n",
    "                'perim (mm)':res_clean[1],\n",
    "                'FD':res_clean[2],\n",
    "                'QUALITY':res_clean[-1]\n",
    "                'specification':specification\n",
    "            },\n",
    "            ignore_index=True)\n",
    "        except Exception as e:\n",
    "            error_faz.append(['quality_error in',file,e])"
   ]
  },
  {
   "cell_type": "code",
   "execution_count": 138,
   "id": "ad04f599",
   "metadata": {},
   "outputs": [
    {
     "data": {
      "text/plain": [
       "pat                      object\n",
       "v                        object\n",
       "eye                      object\n",
       "depth                   float64\n",
       "QUALITY                  object\n",
       "depth_whole              object\n",
       "depth_sup hemi          float64\n",
       "depth_inf hemi           object\n",
       "depth_fovea              object\n",
       "depth_parafovea          object\n",
       "depth_para_sup hemi      object\n",
       "depth_parai_inf hemi     object\n",
       "depth_para temp         float64\n",
       "depth_para_sup           object\n",
       "depth_para_nasal         object\n",
       "depth_para_inf           object\n",
       "depth_perifovea         float64\n",
       "depth_peri_sup hemi     float64\n",
       "depth_peri_inf hemi     float64\n",
       "depth_peri_tempo        float64\n",
       "depth_peri_sup          float64\n",
       "depth_peri_nasal         object\n",
       "depth_peri_inf           object\n",
       "thick_whole             float64\n",
       "thick_sup hemi          float64\n",
       "thick_inf hemi          float64\n",
       "thick_fovea             float64\n",
       "thick_parafovea         float64\n",
       "thick_para_sup hemi     float64\n",
       "thick_parai_inf hemi    float64\n",
       "thick_para temp         float64\n",
       "thick_para_sup          float64\n",
       "thick_para_nasal        float64\n",
       "thick_para_inf          float64\n",
       "thick_perifovea         float64\n",
       "thick_peri_sup hemi     float64\n",
       "thick_peri_inf hemi     float64\n",
       "thick_peri_tempo        float64\n",
       "thick_peri_sup          float64\n",
       "thick_peri_nasal        float64\n",
       "thick_peri_inf          float64\n",
       "grid_v_d1                object\n",
       "grid_v_d2                object\n",
       "grid_v_d3                object\n",
       "grid_v_d4               float64\n",
       "grid_v_d5                object\n",
       "grid_v_d6                object\n",
       "grid_v_d7                object\n",
       "grid_v_d8                object\n",
       "grid_v_d9                object\n",
       "area (mm2)              float64\n",
       "perim (mm)              float64\n",
       "FD                      float64\n",
       "specification            object\n",
       "dtype: object"
      ]
     },
     "execution_count": 138,
     "metadata": {},
     "output_type": "execute_result"
    }
   ],
   "source": [
    "df=pd.read_csv('all_patients.csv')\n",
    "for col in df.columns:\n",
    "    try:\n",
    "        df[col]=df[col].str.replace(\",\",\".\",)\n",
    "        df[col]=df[col].str.replace(\"\\.\\.\",\".\",)\n",
    "    except:\n",
    "        pass"
   ]
  },
  {
   "cell_type": "markdown",
   "id": "f6145165",
   "metadata": {},
   "source": [
    "### TRIALS "
   ]
  },
  {
   "cell_type": "code",
   "execution_count": null,
   "id": "06cc2966",
   "metadata": {},
   "outputs": [],
   "source": [
    "file='../data/P002/V3/P002, L eye, V3, 3.0 - Density SUP.png'\n",
    "if file:\n",
    "    pat=file.split('/')[2]\n",
    "    v=file.split('/')[3]\n",
    "    eye=file.split(',')[1].strip()\n",
    "    depth=file.split(',')[3].split('-')[0].strip()\n",
    "    fdelete = glob('evaluate/*')\n",
    "    for f in fdelete:\n",
    "        os.remove(f)\n",
    "    if 'Density' in file:\n",
    "        im = Image.open(file)\n",
    "#         cropped_top1= im.crop((crops['densities']['table_top_left']['l'],\n",
    "#                               crops['densities']['table_top_left']['t']+215,\n",
    "#                               crops['densities']['table_top_left']['r'],\n",
    "#                               crops['densities']['table_top_left']['b']+215))\n",
    "#         cropped_top2= im.crop((crops['densities']['table_top_right']['l'],\n",
    "#                               crops['densities']['table_top_right']['t']+215,\n",
    "#                               crops['densities']['table_top_right']['r'],\n",
    "#                               crops['densities']['table_top_right']['b']+215))\n",
    "\n",
    "#         cropped_bot= im.crop((crops['densities']['table_bot']['l'],\n",
    "#                               crops['densities']['table_bot']['t']+215,\n",
    "#                               crops['densities']['table_bot']['r'],\n",
    "#                               crops['densities']['table_bot']['b']+215))\n",
    "#         cropped_qual= im.crop((crops['densities']['quality']['l'],\n",
    "#                                crops['densities']['quality']['t']+215,\n",
    "#                                crops['densities']['quality']['r'],\n",
    "#                                crops['densities']['quality']['b']+215))\n",
    "        cropped_top1= im.crop((crops['densities']['table_top_left']['l'],\n",
    "                              crops['densities']['table_top_left']['t'],\n",
    "                              crops['densities']['table_top_left']['r'],\n",
    "                              crops['densities']['table_top_left']['b']))\n",
    "        cropped_top2= im.crop((crops['densities']['table_top_right']['l'],\n",
    "                              crops['densities']['table_top_right']['t'],\n",
    "                              crops['densities']['table_top_right']['r'],\n",
    "                              crops['densities']['table_top_right']['b']))\n",
    "\n",
    "        cropped_bot= im.crop((crops['densities']['table_bot']['l']-5,\n",
    "                              crops['densities']['table_bot']['t']-5,\n",
    "                              crops['densities']['table_bot']['r']+5,\n",
    "                              crops['densities']['table_bot']['b']+5))\n",
    "        cropped_qual= im.crop((crops['densities']['quality']['l'],\n",
    "                               crops['densities']['quality']['t'],\n",
    "                               crops['densities']['quality']['r'],\n",
    "                               crops['densities']['quality']['b']))\n",
    "\n",
    "        cropped_top1.save('evaluate/cropped_top1.png')\n",
    "        cropped_top2.save('evaluate/cropped_top2.png')\n",
    "        cropped_bot.save('evaluate/cropped_bot.png')\n",
    "        cropped_qual.save('evaluate/cropped_quality.png')\n",
    "        ocr=OCR(image_folder=\"evaluate/\")\n",
    "        results=ocr.easyocr_model_works(visualization=False)  \n",
    "        temp={   'QUALITY': np.nan,\n",
    "                 'depth_whole': np.nan,\n",
    "                 'depth_sup hemi': np.nan,\n",
    "                 'depth_inf hemi': np.nan,\n",
    "                 'depth_fovea': np.nan,\n",
    "                 'depth_parafovea': np.nan,\n",
    "                 'depth_para_sup hemi': np.nan,\n",
    "                 'depth_parai_inf hemi': np.nan,\n",
    "                 'depth_para temp': np.nan,\n",
    "                 'depth_para_sup': np.nan,\n",
    "                 'depth_para_nasal': np.nan,\n",
    "                 'depth_para_inf': np.nan,\n",
    "                 'depth_perifovea': np.nan,\n",
    "                 'depth_peri_sup hemi': np.nan,\n",
    "                 'depth_peri_inf hemi': np.nan,\n",
    "                 'depth_peri_tempo ': np.nan,\n",
    "                 'depth_peri_sup': np.nan,\n",
    "                 'depth_peri_nasal': np.nan,\n",
    "                 'depth_peri_inf': np.nan,\n",
    "                 'thick_whole': np.nan,\n",
    "                 'thick_sup hemi': np.nan,\n",
    "                 'thick_inf hemi': np.nan,\n",
    "                 'thick_fovea': np.nan,\n",
    "                 'thick_parafovea': np.nan,\n",
    "                 'thick_para_sup hemi': np.nan,\n",
    "                 'thick_parai_inf hemi': np.nan,\n",
    "                 'thick_para temp': np.nan,\n",
    "                 'thick_para_sup': np.nan,\n",
    "                 'thick_para_nasal': np.nan,\n",
    "                 'thick_para_inf': np.nan,\n",
    "                 'thick_perifovea': np.nan,\n",
    "                 'thick_peri_sup hemi': np.nan,\n",
    "                 'thick_peri_inf hemi': np.nan,\n",
    "                 'thick_peri_tempo ': np.nan,\n",
    "                 'thick_peri_sup': np.nan,\n",
    "                 'thick_peri_nasal': np.nan,\n",
    "                 'thick_peri_inf': np.nan,\n",
    "                 'grid_v_d1': np.nan,\n",
    "                 'grid_v_d2': np.nan,\n",
    "                 'grid_v_d3': np.nan,\n",
    "                 'grid_v_d4': np.nan,\n",
    "                 'grid_v_d5': np.nan,\n",
    "                 'grid_v_d6': np.nan,\n",
    "                 'grid_v_d7': np.nan,\n",
    "                 'grid_v_d8': np.nan,\n",
    "                 'grid_v_d9':np.nan\n",
    "                }\n",
    "        #QUALITY\n",
    "        qual=results[2][0][1]\n",
    "        temp[list(temp.keys())[0]]=qual\n",
    "        #TABLE TOP\n",
    "        data_2d=zip(np.array(results[3],dtype=object)[:,1],np.array(results[0],dtype=object)[:,1])\n",
    "        df_top=pd.DataFrame(data_2d)\n",
    "        for i,val in enumerate(df_top[0].values,start=1):\n",
    "            temp[list(temp.keys())[i]]=val\n",
    "        for i,val in enumerate(df_top[1].values,start=19):\n",
    "            temp[list(temp.keys())[i]]=val\n",
    "\n",
    "        #TABLE BOT\n",
    "        data_lin=np.array(results[1],dtype=object)[:,1]\n",
    "        data_2d=np.split(data_lin,data_lin.shape[0]/3)\n",
    "        df_bot=pd.DataFrame(data_2d)\n",
    "        df_bot_list=flatten(df_bot.values.tolist())\n",
    "        for i,val in enumerate(df_bot_list,start=37):\n",
    "            temp[list(temp.keys())[i]]=val\n",
    "        temp['pat']  = pat\n",
    "        temp['v']    = v\n",
    "        temp['eye']  = eye\n",
    "        temp['depth']= depth\n",
    "        df=df.append(\n",
    "            temp,\n",
    "            ignore_index=True)\n",
    "        "
   ]
  },
  {
   "cell_type": "markdown",
   "id": "2cc92801",
   "metadata": {},
   "source": [
    "# PIVOT DF"
   ]
  },
  {
   "cell_type": "code",
   "execution_count": 309,
   "id": "26b9a6c3",
   "metadata": {},
   "outputs": [
    {
     "data": {
      "text/html": [
       "<div>\n",
       "<style scoped>\n",
       "    .dataframe tbody tr th:only-of-type {\n",
       "        vertical-align: middle;\n",
       "    }\n",
       "\n",
       "    .dataframe tbody tr th {\n",
       "        vertical-align: top;\n",
       "    }\n",
       "\n",
       "    .dataframe thead th {\n",
       "        text-align: right;\n",
       "    }\n",
       "</style>\n",
       "<table border=\"1\" class=\"dataframe\">\n",
       "  <thead>\n",
       "    <tr style=\"text-align: right;\">\n",
       "      <th></th>\n",
       "      <th></th>\n",
       "      <th></th>\n",
       "      <th></th>\n",
       "      <th>FD</th>\n",
       "      <th>QUALITY</th>\n",
       "      <th>area (mm2)</th>\n",
       "      <th>depth_fovea</th>\n",
       "      <th>depth_inf hemi</th>\n",
       "      <th>depth_para temp</th>\n",
       "      <th>depth_para_inf</th>\n",
       "      <th>depth_para_nasal</th>\n",
       "      <th>depth_para_sup</th>\n",
       "      <th>depth_para_sup hemi</th>\n",
       "      <th>...</th>\n",
       "      <th>thick_parai_inf hemi</th>\n",
       "      <th>thick_peri_inf</th>\n",
       "      <th>thick_peri_inf hemi</th>\n",
       "      <th>thick_peri_nasal</th>\n",
       "      <th>thick_peri_sup</th>\n",
       "      <th>thick_peri_sup hemi</th>\n",
       "      <th>thick_peri_tempo</th>\n",
       "      <th>thick_perifovea</th>\n",
       "      <th>thick_sup hemi</th>\n",
       "      <th>thick_whole</th>\n",
       "    </tr>\n",
       "    <tr>\n",
       "      <th>pat</th>\n",
       "      <th>v</th>\n",
       "      <th>depth</th>\n",
       "      <th>eye</th>\n",
       "      <th></th>\n",
       "      <th></th>\n",
       "      <th></th>\n",
       "      <th></th>\n",
       "      <th></th>\n",
       "      <th></th>\n",
       "      <th></th>\n",
       "      <th></th>\n",
       "      <th></th>\n",
       "      <th></th>\n",
       "      <th></th>\n",
       "      <th></th>\n",
       "      <th></th>\n",
       "      <th></th>\n",
       "      <th></th>\n",
       "      <th></th>\n",
       "      <th></th>\n",
       "      <th></th>\n",
       "      <th></th>\n",
       "      <th></th>\n",
       "      <th></th>\n",
       "    </tr>\n",
       "  </thead>\n",
       "  <tbody>\n",
       "    <tr>\n",
       "      <th rowspan=\"6\" valign=\"top\">P001</th>\n",
       "      <th rowspan=\"4\" valign=\"top\">V2</th>\n",
       "      <th rowspan=\"2\" valign=\"top\">3.0</th>\n",
       "      <th>L eye</th>\n",
       "      <td>49.05</td>\n",
       "      <td>8/10</td>\n",
       "      <td>0.272</td>\n",
       "      <td>32.9</td>\n",
       "      <td>53.5</td>\n",
       "      <td>54.30</td>\n",
       "      <td>57.9</td>\n",
       "      <td>54.2</td>\n",
       "      <td>56.3</td>\n",
       "      <td>55.6</td>\n",
       "      <td>...</td>\n",
       "      <td>316.0</td>\n",
       "      <td>NaN</td>\n",
       "      <td>NaN</td>\n",
       "      <td>NaN</td>\n",
       "      <td>NaN</td>\n",
       "      <td>NaN</td>\n",
       "      <td>NaN</td>\n",
       "      <td>NaN</td>\n",
       "      <td>308.0</td>\n",
       "      <td>307.0</td>\n",
       "    </tr>\n",
       "    <tr>\n",
       "      <th>R eye</th>\n",
       "      <td>50.48</td>\n",
       "      <td>8/10</td>\n",
       "      <td>0.232</td>\n",
       "      <td>36.6</td>\n",
       "      <td>55.9</td>\n",
       "      <td>55.20</td>\n",
       "      <td>57.9</td>\n",
       "      <td>57.3</td>\n",
       "      <td>58.6</td>\n",
       "      <td>57.2</td>\n",
       "      <td>...</td>\n",
       "      <td>324.0</td>\n",
       "      <td>NaN</td>\n",
       "      <td>NaN</td>\n",
       "      <td>NaN</td>\n",
       "      <td>NaN</td>\n",
       "      <td>NaN</td>\n",
       "      <td>NaN</td>\n",
       "      <td>NaN</td>\n",
       "      <td>314.0</td>\n",
       "      <td>314.0</td>\n",
       "    </tr>\n",
       "    <tr>\n",
       "      <th rowspan=\"2\" valign=\"top\">6.0</th>\n",
       "      <th>L eye</th>\n",
       "      <td>54.17</td>\n",
       "      <td>8/10</td>\n",
       "      <td>0.238</td>\n",
       "      <td>43.4</td>\n",
       "      <td>56.44</td>\n",
       "      <td>61.40</td>\n",
       "      <td>57.8</td>\n",
       "      <td>52.7</td>\n",
       "      <td>573</td>\n",
       "      <td>56.7</td>\n",
       "      <td>...</td>\n",
       "      <td>314.0</td>\n",
       "      <td>252.0</td>\n",
       "      <td>256.0</td>\n",
       "      <td>279.0</td>\n",
       "      <td>270.0</td>\n",
       "      <td>270.0</td>\n",
       "      <td>251.0</td>\n",
       "      <td>263.0</td>\n",
       "      <td>274.0</td>\n",
       "      <td>269.0</td>\n",
       "    </tr>\n",
       "    <tr>\n",
       "      <th>R eye</th>\n",
       "      <td>52.02</td>\n",
       "      <td>9/10</td>\n",
       "      <td>0.209</td>\n",
       "      <td>41.7</td>\n",
       "      <td>53.6</td>\n",
       "      <td>55.80</td>\n",
       "      <td>52.7</td>\n",
       "      <td>54.5</td>\n",
       "      <td>533</td>\n",
       "      <td>53.9</td>\n",
       "      <td>...</td>\n",
       "      <td>320.0</td>\n",
       "      <td>261.0</td>\n",
       "      <td>266.0</td>\n",
       "      <td>286.0</td>\n",
       "      <td>277.0</td>\n",
       "      <td>275.0</td>\n",
       "      <td>258.0</td>\n",
       "      <td>271.0</td>\n",
       "      <td>280.0</td>\n",
       "      <td>276.0</td>\n",
       "    </tr>\n",
       "    <tr>\n",
       "      <th rowspan=\"2\" valign=\"top\">V3</th>\n",
       "      <th>3.0</th>\n",
       "      <th>R eye</th>\n",
       "      <td>51.96</td>\n",
       "      <td>8/10</td>\n",
       "      <td>0.222</td>\n",
       "      <td>40.1</td>\n",
       "      <td>54.5</td>\n",
       "      <td>57.50</td>\n",
       "      <td>54.2</td>\n",
       "      <td>56.1</td>\n",
       "      <td>58.1</td>\n",
       "      <td>56.9</td>\n",
       "      <td>...</td>\n",
       "      <td>325.0</td>\n",
       "      <td>NaN</td>\n",
       "      <td>NaN</td>\n",
       "      <td>NaN</td>\n",
       "      <td>NaN</td>\n",
       "      <td>NaN</td>\n",
       "      <td>NaN</td>\n",
       "      <td>NaN</td>\n",
       "      <td>315.0</td>\n",
       "      <td>315.0</td>\n",
       "    </tr>\n",
       "    <tr>\n",
       "      <th>6.0</th>\n",
       "      <th>R eye</th>\n",
       "      <td>54.65</td>\n",
       "      <td>8/10</td>\n",
       "      <td>0.213</td>\n",
       "      <td>43.2</td>\n",
       "      <td>56.9</td>\n",
       "      <td>573.00</td>\n",
       "      <td>60.5</td>\n",
       "      <td>57.5</td>\n",
       "      <td>61.2</td>\n",
       "      <td>59.0</td>\n",
       "      <td>...</td>\n",
       "      <td>324.0</td>\n",
       "      <td>263.0</td>\n",
       "      <td>268.0</td>\n",
       "      <td>287.0</td>\n",
       "      <td>277.0</td>\n",
       "      <td>276.0</td>\n",
       "      <td>260.0</td>\n",
       "      <td>272.0</td>\n",
       "      <td>279.0</td>\n",
       "      <td>276.0</td>\n",
       "    </tr>\n",
       "    <tr>\n",
       "      <th rowspan=\"7\" valign=\"top\">P002</th>\n",
       "      <th rowspan=\"3\" valign=\"top\">V2</th>\n",
       "      <th rowspan=\"2\" valign=\"top\">3.0</th>\n",
       "      <th>L eye</th>\n",
       "      <td>54.18</td>\n",
       "      <td>9/10</td>\n",
       "      <td>0.379</td>\n",
       "      <td>28.1</td>\n",
       "      <td>54.2</td>\n",
       "      <td>55.40</td>\n",
       "      <td>56.7</td>\n",
       "      <td>55.8</td>\n",
       "      <td>58.1</td>\n",
       "      <td>56.9</td>\n",
       "      <td>...</td>\n",
       "      <td>331.0</td>\n",
       "      <td>NaN</td>\n",
       "      <td>NaN</td>\n",
       "      <td>NaN</td>\n",
       "      <td>NaN</td>\n",
       "      <td>NaN</td>\n",
       "      <td>NaN</td>\n",
       "      <td>NaN</td>\n",
       "      <td>321.0</td>\n",
       "      <td>322.0</td>\n",
       "    </tr>\n",
       "    <tr>\n",
       "      <th>R eye</th>\n",
       "      <td>52.59</td>\n",
       "      <td>9/10</td>\n",
       "      <td>0.401</td>\n",
       "      <td>24.9</td>\n",
       "      <td>52.2</td>\n",
       "      <td>53.20</td>\n",
       "      <td>53.9</td>\n",
       "      <td>54.9</td>\n",
       "      <td>56.1</td>\n",
       "      <td>54.8</td>\n",
       "      <td>...</td>\n",
       "      <td>332.0</td>\n",
       "      <td>NaN</td>\n",
       "      <td>NaN</td>\n",
       "      <td>NaN</td>\n",
       "      <td>NaN</td>\n",
       "      <td>NaN</td>\n",
       "      <td>NaN</td>\n",
       "      <td>NaN</td>\n",
       "      <td>323.0</td>\n",
       "      <td>322.0</td>\n",
       "    </tr>\n",
       "    <tr>\n",
       "      <th>6.0</th>\n",
       "      <th>R eye</th>\n",
       "      <td>55.74</td>\n",
       "      <td>9/10</td>\n",
       "      <td>0.380</td>\n",
       "      <td>30.5</td>\n",
       "      <td>58.8</td>\n",
       "      <td>58.70</td>\n",
       "      <td>58.0</td>\n",
       "      <td>59.9</td>\n",
       "      <td>50.44</td>\n",
       "      <td>59.7</td>\n",
       "      <td>...</td>\n",
       "      <td>332.0</td>\n",
       "      <td>NaN</td>\n",
       "      <td>290.0</td>\n",
       "      <td>322.0</td>\n",
       "      <td>300.0</td>\n",
       "      <td>300.0</td>\n",
       "      <td>273.0</td>\n",
       "      <td>295.0</td>\n",
       "      <td>301.0</td>\n",
       "      <td>297.0</td>\n",
       "    </tr>\n",
       "    <tr>\n",
       "      <th rowspan=\"4\" valign=\"top\">V3</th>\n",
       "      <th rowspan=\"2\" valign=\"top\">3.0</th>\n",
       "      <th>L eye</th>\n",
       "      <td>54.70</td>\n",
       "      <td>9/10</td>\n",
       "      <td>0.371</td>\n",
       "      <td>30.4</td>\n",
       "      <td>54.4</td>\n",
       "      <td>56.60</td>\n",
       "      <td>57.0</td>\n",
       "      <td>56.8</td>\n",
       "      <td>58.8</td>\n",
       "      <td>57.9</td>\n",
       "      <td>...</td>\n",
       "      <td>327.0</td>\n",
       "      <td>NaN</td>\n",
       "      <td>NaN</td>\n",
       "      <td>NaN</td>\n",
       "      <td>NaN</td>\n",
       "      <td>NaN</td>\n",
       "      <td>NaN</td>\n",
       "      <td>NaN</td>\n",
       "      <td>316.0</td>\n",
       "      <td>317.0</td>\n",
       "    </tr>\n",
       "    <tr>\n",
       "      <th>R eye</th>\n",
       "      <td>53.04</td>\n",
       "      <td>9/10</td>\n",
       "      <td>0.398</td>\n",
       "      <td>23.5</td>\n",
       "      <td>50.6</td>\n",
       "      <td>52.80</td>\n",
       "      <td>52.0</td>\n",
       "      <td>53.1</td>\n",
       "      <td>55.5</td>\n",
       "      <td>54.2</td>\n",
       "      <td>...</td>\n",
       "      <td>330.0</td>\n",
       "      <td>NaN</td>\n",
       "      <td>NaN</td>\n",
       "      <td>NaN</td>\n",
       "      <td>NaN</td>\n",
       "      <td>NaN</td>\n",
       "      <td>NaN</td>\n",
       "      <td>NaN</td>\n",
       "      <td>321.0</td>\n",
       "      <td>320.0</td>\n",
       "    </tr>\n",
       "    <tr>\n",
       "      <th rowspan=\"2\" valign=\"top\">6.0</th>\n",
       "      <th>L eye</th>\n",
       "      <td>57.19</td>\n",
       "      <td>9/10</td>\n",
       "      <td>0.358</td>\n",
       "      <td>33.7</td>\n",
       "      <td>59.7</td>\n",
       "      <td>61.60</td>\n",
       "      <td>60.5</td>\n",
       "      <td>50.6</td>\n",
       "      <td>61.7</td>\n",
       "      <td>61.5</td>\n",
       "      <td>...</td>\n",
       "      <td>326.0</td>\n",
       "      <td>289.0</td>\n",
       "      <td>291.0</td>\n",
       "      <td>319.0</td>\n",
       "      <td>298.0</td>\n",
       "      <td>295.0</td>\n",
       "      <td>268.0</td>\n",
       "      <td>293.0</td>\n",
       "      <td>296.0</td>\n",
       "      <td>295.0</td>\n",
       "    </tr>\n",
       "    <tr>\n",
       "      <th>R eye</th>\n",
       "      <td>57.54</td>\n",
       "      <td>9/10</td>\n",
       "      <td>0.396</td>\n",
       "      <td>27.9</td>\n",
       "      <td>54.3</td>\n",
       "      <td>56.60</td>\n",
       "      <td>55.2</td>\n",
       "      <td>57.8</td>\n",
       "      <td>56.7</td>\n",
       "      <td>57.1</td>\n",
       "      <td>...</td>\n",
       "      <td>329.0</td>\n",
       "      <td>285.0</td>\n",
       "      <td>289.0</td>\n",
       "      <td>320.0</td>\n",
       "      <td>297.0</td>\n",
       "      <td>298.0</td>\n",
       "      <td>272.0</td>\n",
       "      <td>293.0</td>\n",
       "      <td>299.0</td>\n",
       "      <td>295.0</td>\n",
       "    </tr>\n",
       "    <tr>\n",
       "      <th rowspan=\"8\" valign=\"top\">P003</th>\n",
       "      <th rowspan=\"4\" valign=\"top\">V2</th>\n",
       "      <th rowspan=\"2\" valign=\"top\">3.0</th>\n",
       "      <th>L eye</th>\n",
       "      <td>46.12</td>\n",
       "      <td>6/10</td>\n",
       "      <td>0.282</td>\n",
       "      <td>38.0</td>\n",
       "      <td>50.5</td>\n",
       "      <td>63.30</td>\n",
       "      <td>62.9</td>\n",
       "      <td>53.8</td>\n",
       "      <td>64.7</td>\n",
       "      <td>54.6</td>\n",
       "      <td>...</td>\n",
       "      <td>330.0</td>\n",
       "      <td>NaN</td>\n",
       "      <td>NaN</td>\n",
       "      <td>NaN</td>\n",
       "      <td>NaN</td>\n",
       "      <td>NaN</td>\n",
       "      <td>NaN</td>\n",
       "      <td>NaN</td>\n",
       "      <td>318.0</td>\n",
       "      <td>319.0</td>\n",
       "    </tr>\n",
       "    <tr>\n",
       "      <th>R eye</th>\n",
       "      <td>51.50</td>\n",
       "      <td>8/10</td>\n",
       "      <td>0.261</td>\n",
       "      <td>36.9</td>\n",
       "      <td>53.0</td>\n",
       "      <td>55.00</td>\n",
       "      <td>55.1</td>\n",
       "      <td>55.8</td>\n",
       "      <td>53.8</td>\n",
       "      <td>55.2</td>\n",
       "      <td>...</td>\n",
       "      <td>327.0</td>\n",
       "      <td>NaN</td>\n",
       "      <td>NaN</td>\n",
       "      <td>NaN</td>\n",
       "      <td>NaN</td>\n",
       "      <td>NaN</td>\n",
       "      <td>NaN</td>\n",
       "      <td>NaN</td>\n",
       "      <td>316.0</td>\n",
       "      <td>316.0</td>\n",
       "    </tr>\n",
       "    <tr>\n",
       "      <th rowspan=\"2\" valign=\"top\">6.0</th>\n",
       "      <th>L eye</th>\n",
       "      <td>43.89</td>\n",
       "      <td>5/10</td>\n",
       "      <td>0.275</td>\n",
       "      <td>30.0</td>\n",
       "      <td>40.9</td>\n",
       "      <td>53.10</td>\n",
       "      <td>50.9</td>\n",
       "      <td>56.7</td>\n",
       "      <td>55.7</td>\n",
       "      <td>55.7</td>\n",
       "      <td>...</td>\n",
       "      <td>332.0</td>\n",
       "      <td>279.0</td>\n",
       "      <td>286.0</td>\n",
       "      <td>321.0</td>\n",
       "      <td>289.0</td>\n",
       "      <td>292.0</td>\n",
       "      <td>269.0</td>\n",
       "      <td>289.0</td>\n",
       "      <td>293.0</td>\n",
       "      <td>291.0</td>\n",
       "    </tr>\n",
       "    <tr>\n",
       "      <th>R eye</th>\n",
       "      <td>53.52</td>\n",
       "      <td>8/10</td>\n",
       "      <td>0.254</td>\n",
       "      <td>36.1</td>\n",
       "      <td>45.1</td>\n",
       "      <td>54.30</td>\n",
       "      <td>52.1</td>\n",
       "      <td>51.9</td>\n",
       "      <td>5344</td>\n",
       "      <td>53.7</td>\n",
       "      <td>...</td>\n",
       "      <td>329.0</td>\n",
       "      <td>274.0</td>\n",
       "      <td>281.0</td>\n",
       "      <td>312.0</td>\n",
       "      <td>287.0</td>\n",
       "      <td>291.0</td>\n",
       "      <td>271.0</td>\n",
       "      <td>286.0</td>\n",
       "      <td>290.0</td>\n",
       "      <td>287.0</td>\n",
       "    </tr>\n",
       "    <tr>\n",
       "      <th rowspan=\"4\" valign=\"top\">V3</th>\n",
       "      <th rowspan=\"2\" valign=\"top\">3.0</th>\n",
       "      <th>L eye</th>\n",
       "      <td>54.12</td>\n",
       "      <td>9/10</td>\n",
       "      <td>0.293</td>\n",
       "      <td>36.3</td>\n",
       "      <td>56.4</td>\n",
       "      <td>57.70</td>\n",
       "      <td>58.8</td>\n",
       "      <td>58.5</td>\n",
       "      <td>58.6</td>\n",
       "      <td>58.7</td>\n",
       "      <td>...</td>\n",
       "      <td>331.0</td>\n",
       "      <td>NaN</td>\n",
       "      <td>NaN</td>\n",
       "      <td>NaN</td>\n",
       "      <td>NaN</td>\n",
       "      <td>NaN</td>\n",
       "      <td>NaN</td>\n",
       "      <td>NaN</td>\n",
       "      <td>321.0</td>\n",
       "      <td>320.0</td>\n",
       "    </tr>\n",
       "    <tr>\n",
       "      <th>R eye</th>\n",
       "      <td>53.36</td>\n",
       "      <td>9/10</td>\n",
       "      <td>0.269</td>\n",
       "      <td>36.6</td>\n",
       "      <td>56.1</td>\n",
       "      <td>57.00</td>\n",
       "      <td>58.4</td>\n",
       "      <td>58.0</td>\n",
       "      <td>57.5</td>\n",
       "      <td>57.4</td>\n",
       "      <td>...</td>\n",
       "      <td>328.0</td>\n",
       "      <td>NaN</td>\n",
       "      <td>NaN</td>\n",
       "      <td>NaN</td>\n",
       "      <td>NaN</td>\n",
       "      <td>NaN</td>\n",
       "      <td>NaN</td>\n",
       "      <td>NaN</td>\n",
       "      <td>318.0</td>\n",
       "      <td>318.0</td>\n",
       "    </tr>\n",
       "    <tr>\n",
       "      <th rowspan=\"2\" valign=\"top\">6.0</th>\n",
       "      <th>L eye</th>\n",
       "      <td>54.65</td>\n",
       "      <td>8/10</td>\n",
       "      <td>0.278</td>\n",
       "      <td>19.9</td>\n",
       "      <td>48.1</td>\n",
       "      <td>49.90</td>\n",
       "      <td>533</td>\n",
       "      <td>52.6</td>\n",
       "      <td>54.0</td>\n",
       "      <td>52.8</td>\n",
       "      <td>...</td>\n",
       "      <td>331.0</td>\n",
       "      <td>279.0</td>\n",
       "      <td>287.0</td>\n",
       "      <td>320.0</td>\n",
       "      <td>290.0</td>\n",
       "      <td>293.0</td>\n",
       "      <td>271.0</td>\n",
       "      <td>290.0</td>\n",
       "      <td>293.0</td>\n",
       "      <td>291.0</td>\n",
       "    </tr>\n",
       "    <tr>\n",
       "      <th>R eye</th>\n",
       "      <td>57.48</td>\n",
       "      <td>9/10</td>\n",
       "      <td>0.253</td>\n",
       "      <td>42.5</td>\n",
       "      <td>56.9</td>\n",
       "      <td>50.60</td>\n",
       "      <td>59.2</td>\n",
       "      <td>584</td>\n",
       "      <td>61.1</td>\n",
       "      <td>50.2</td>\n",
       "      <td>...</td>\n",
       "      <td>329.0</td>\n",
       "      <td>274.0</td>\n",
       "      <td>280.0</td>\n",
       "      <td>313.0</td>\n",
       "      <td>285.0</td>\n",
       "      <td>289.0</td>\n",
       "      <td>267.0</td>\n",
       "      <td>285.0</td>\n",
       "      <td>289.0</td>\n",
       "      <td>286.0</td>\n",
       "    </tr>\n",
       "    <tr>\n",
       "      <th rowspan=\"8\" valign=\"top\">P006</th>\n",
       "      <th rowspan=\"4\" valign=\"top\">V2</th>\n",
       "      <th rowspan=\"2\" valign=\"top\">3.0</th>\n",
       "      <th>L eye</th>\n",
       "      <td>50.87</td>\n",
       "      <td>7/10</td>\n",
       "      <td>0.309</td>\n",
       "      <td>29.7</td>\n",
       "      <td>49.4</td>\n",
       "      <td>56.30</td>\n",
       "      <td>50.5</td>\n",
       "      <td>56.3</td>\n",
       "      <td>56.4</td>\n",
       "      <td>55.8</td>\n",
       "      <td>...</td>\n",
       "      <td>308.0</td>\n",
       "      <td>NaN</td>\n",
       "      <td>NaN</td>\n",
       "      <td>NaN</td>\n",
       "      <td>NaN</td>\n",
       "      <td>NaN</td>\n",
       "      <td>NaN</td>\n",
       "      <td>NaN</td>\n",
       "      <td>299.0</td>\n",
       "      <td>298.0</td>\n",
       "    </tr>\n",
       "    <tr>\n",
       "      <th>R eye</th>\n",
       "      <td>102.00</td>\n",
       "      <td>8/10</td>\n",
       "      <td>0.286</td>\n",
       "      <td>32.1</td>\n",
       "      <td>54.9</td>\n",
       "      <td>57.40</td>\n",
       "      <td>56.1</td>\n",
       "      <td>57.2</td>\n",
       "      <td>54.7</td>\n",
       "      <td>55.9</td>\n",
       "      <td>...</td>\n",
       "      <td>307.0</td>\n",
       "      <td>NaN</td>\n",
       "      <td>NaN</td>\n",
       "      <td>NaN</td>\n",
       "      <td>NaN</td>\n",
       "      <td>NaN</td>\n",
       "      <td>NaN</td>\n",
       "      <td>NaN</td>\n",
       "      <td>295.0</td>\n",
       "      <td>295.0</td>\n",
       "    </tr>\n",
       "    <tr>\n",
       "      <th rowspan=\"2\" valign=\"top\">6.0</th>\n",
       "      <th>L eye</th>\n",
       "      <td>52.15</td>\n",
       "      <td>6/10</td>\n",
       "      <td>0.297</td>\n",
       "      <td>31.8</td>\n",
       "      <td>43.5</td>\n",
       "      <td>53.20</td>\n",
       "      <td>514</td>\n",
       "      <td>53.8</td>\n",
       "      <td>52.2</td>\n",
       "      <td>52.6</td>\n",
       "      <td>...</td>\n",
       "      <td>307.0</td>\n",
       "      <td>249.0</td>\n",
       "      <td>255.0</td>\n",
       "      <td>285.0</td>\n",
       "      <td>264.0</td>\n",
       "      <td>264.0</td>\n",
       "      <td>239.0</td>\n",
       "      <td>260.0</td>\n",
       "      <td>267.0</td>\n",
       "      <td>265.0</td>\n",
       "    </tr>\n",
       "    <tr>\n",
       "      <th>R eye</th>\n",
       "      <td>56.55</td>\n",
       "      <td>8/10</td>\n",
       "      <td>0.279</td>\n",
       "      <td>38.8</td>\n",
       "      <td>58.4</td>\n",
       "      <td>613.00</td>\n",
       "      <td>61.1</td>\n",
       "      <td>51.8</td>\n",
       "      <td>62.8</td>\n",
       "      <td>61.5</td>\n",
       "      <td>...</td>\n",
       "      <td>308.0</td>\n",
       "      <td>253.0</td>\n",
       "      <td>257.0</td>\n",
       "      <td>280.0</td>\n",
       "      <td>260.0</td>\n",
       "      <td>261.0</td>\n",
       "      <td>242.0</td>\n",
       "      <td>259.0</td>\n",
       "      <td>266.0</td>\n",
       "      <td>263.0</td>\n",
       "    </tr>\n",
       "    <tr>\n",
       "      <th rowspan=\"4\" valign=\"top\">V3</th>\n",
       "      <th rowspan=\"2\" valign=\"top\">3.0</th>\n",
       "      <th>L eye</th>\n",
       "      <td>49.00</td>\n",
       "      <td>7/10</td>\n",
       "      <td>0.296</td>\n",
       "      <td>30.8</td>\n",
       "      <td>54.4</td>\n",
       "      <td>58.00</td>\n",
       "      <td>56.7</td>\n",
       "      <td>56.5</td>\n",
       "      <td>55.6</td>\n",
       "      <td>56.1</td>\n",
       "      <td>...</td>\n",
       "      <td>311.0</td>\n",
       "      <td>NaN</td>\n",
       "      <td>NaN</td>\n",
       "      <td>NaN</td>\n",
       "      <td>NaN</td>\n",
       "      <td>NaN</td>\n",
       "      <td>NaN</td>\n",
       "      <td>NaN</td>\n",
       "      <td>303.0</td>\n",
       "      <td>302.0</td>\n",
       "    </tr>\n",
       "    <tr>\n",
       "      <th>R eye</th>\n",
       "      <td>48.60</td>\n",
       "      <td>8/10</td>\n",
       "      <td>0.290</td>\n",
       "      <td>30.8</td>\n",
       "      <td>53.8</td>\n",
       "      <td>54.80</td>\n",
       "      <td>56.0</td>\n",
       "      <td>55.5</td>\n",
       "      <td>56.6</td>\n",
       "      <td>55.7</td>\n",
       "      <td>...</td>\n",
       "      <td>310.0</td>\n",
       "      <td>NaN</td>\n",
       "      <td>NaN</td>\n",
       "      <td>NaN</td>\n",
       "      <td>NaN</td>\n",
       "      <td>NaN</td>\n",
       "      <td>NaN</td>\n",
       "      <td>NaN</td>\n",
       "      <td>296.0</td>\n",
       "      <td>297.0</td>\n",
       "    </tr>\n",
       "    <tr>\n",
       "      <th rowspan=\"2\" valign=\"top\">6.0</th>\n",
       "      <th>L eye</th>\n",
       "      <td>53.61</td>\n",
       "      <td>7/10</td>\n",
       "      <td>0.288</td>\n",
       "      <td>34.6</td>\n",
       "      <td>49.7</td>\n",
       "      <td>56.44</td>\n",
       "      <td>52.7</td>\n",
       "      <td>57.7</td>\n",
       "      <td>53.0</td>\n",
       "      <td>55.2</td>\n",
       "      <td>...</td>\n",
       "      <td>310.0</td>\n",
       "      <td>251.0</td>\n",
       "      <td>257.0</td>\n",
       "      <td>288.0</td>\n",
       "      <td>266.0</td>\n",
       "      <td>267.0</td>\n",
       "      <td>241.0</td>\n",
       "      <td>262.0</td>\n",
       "      <td>270.0</td>\n",
       "      <td>268.0</td>\n",
       "    </tr>\n",
       "    <tr>\n",
       "      <th>R eye</th>\n",
       "      <td>51.40</td>\n",
       "      <td>7/10</td>\n",
       "      <td>0.282</td>\n",
       "      <td>35.2</td>\n",
       "      <td>46.6</td>\n",
       "      <td>5344.00</td>\n",
       "      <td>49.0</td>\n",
       "      <td>54.6</td>\n",
       "      <td>52.5</td>\n",
       "      <td>53.2</td>\n",
       "      <td>...</td>\n",
       "      <td>309.0</td>\n",
       "      <td>254.0</td>\n",
       "      <td>258.0</td>\n",
       "      <td>282.0</td>\n",
       "      <td>263.0</td>\n",
       "      <td>264.0</td>\n",
       "      <td>247.0</td>\n",
       "      <td>261.0</td>\n",
       "      <td>268.0</td>\n",
       "      <td>264.0</td>\n",
       "    </tr>\n",
       "  </tbody>\n",
       "</table>\n",
       "<p>29 rows × 50 columns</p>\n",
       "</div>"
      ],
      "text/plain": [
       "                         FD QUALITY  area (mm2) depth_fovea depth_inf hemi  \\\n",
       "pat  v  depth eye                                                            \n",
       "P001 V2 3.0   L eye   49.05    8/10       0.272        32.9           53.5   \n",
       "              R eye   50.48    8/10       0.232        36.6           55.9   \n",
       "        6.0   L eye   54.17    8/10       0.238        43.4          56.44   \n",
       "              R eye   52.02    9/10       0.209        41.7           53.6   \n",
       "     V3 3.0   R eye   51.96    8/10       0.222        40.1           54.5   \n",
       "        6.0   R eye   54.65    8/10       0.213        43.2           56.9   \n",
       "P002 V2 3.0   L eye   54.18    9/10       0.379        28.1           54.2   \n",
       "              R eye   52.59    9/10       0.401        24.9           52.2   \n",
       "        6.0   R eye   55.74    9/10       0.380        30.5           58.8   \n",
       "     V3 3.0   L eye   54.70    9/10       0.371        30.4           54.4   \n",
       "              R eye   53.04    9/10       0.398        23.5           50.6   \n",
       "        6.0   L eye   57.19    9/10       0.358        33.7           59.7   \n",
       "              R eye   57.54    9/10       0.396        27.9           54.3   \n",
       "P003 V2 3.0   L eye   46.12    6/10       0.282        38.0           50.5   \n",
       "              R eye   51.50    8/10       0.261        36.9           53.0   \n",
       "        6.0   L eye   43.89    5/10       0.275        30.0           40.9   \n",
       "              R eye   53.52    8/10       0.254        36.1           45.1   \n",
       "     V3 3.0   L eye   54.12    9/10       0.293        36.3           56.4   \n",
       "              R eye   53.36    9/10       0.269        36.6           56.1   \n",
       "        6.0   L eye   54.65    8/10       0.278        19.9           48.1   \n",
       "              R eye   57.48    9/10       0.253        42.5           56.9   \n",
       "P006 V2 3.0   L eye   50.87    7/10       0.309        29.7           49.4   \n",
       "              R eye  102.00    8/10       0.286        32.1           54.9   \n",
       "        6.0   L eye   52.15    6/10       0.297        31.8           43.5   \n",
       "              R eye   56.55    8/10       0.279        38.8           58.4   \n",
       "     V3 3.0   L eye   49.00    7/10       0.296        30.8           54.4   \n",
       "              R eye   48.60    8/10       0.290        30.8           53.8   \n",
       "        6.0   L eye   53.61    7/10       0.288        34.6           49.7   \n",
       "              R eye   51.40    7/10       0.282        35.2           46.6   \n",
       "\n",
       "                     depth_para temp depth_para_inf depth_para_nasal  \\\n",
       "pat  v  depth eye                                                      \n",
       "P001 V2 3.0   L eye            54.30           57.9             54.2   \n",
       "              R eye            55.20           57.9             57.3   \n",
       "        6.0   L eye            61.40           57.8             52.7   \n",
       "              R eye            55.80           52.7             54.5   \n",
       "     V3 3.0   R eye            57.50           54.2             56.1   \n",
       "        6.0   R eye           573.00           60.5             57.5   \n",
       "P002 V2 3.0   L eye            55.40           56.7             55.8   \n",
       "              R eye            53.20           53.9             54.9   \n",
       "        6.0   R eye            58.70           58.0             59.9   \n",
       "     V3 3.0   L eye            56.60           57.0             56.8   \n",
       "              R eye            52.80           52.0             53.1   \n",
       "        6.0   L eye            61.60           60.5             50.6   \n",
       "              R eye            56.60           55.2             57.8   \n",
       "P003 V2 3.0   L eye            63.30           62.9             53.8   \n",
       "              R eye            55.00           55.1             55.8   \n",
       "        6.0   L eye            53.10           50.9             56.7   \n",
       "              R eye            54.30           52.1             51.9   \n",
       "     V3 3.0   L eye            57.70           58.8             58.5   \n",
       "              R eye            57.00           58.4             58.0   \n",
       "        6.0   L eye            49.90            533             52.6   \n",
       "              R eye            50.60           59.2              584   \n",
       "P006 V2 3.0   L eye            56.30           50.5             56.3   \n",
       "              R eye            57.40           56.1             57.2   \n",
       "        6.0   L eye            53.20            514             53.8   \n",
       "              R eye           613.00           61.1             51.8   \n",
       "     V3 3.0   L eye            58.00           56.7             56.5   \n",
       "              R eye            54.80           56.0             55.5   \n",
       "        6.0   L eye            56.44           52.7             57.7   \n",
       "              R eye          5344.00           49.0             54.6   \n",
       "\n",
       "                    depth_para_sup depth_para_sup hemi  ...  \\\n",
       "pat  v  depth eye                                       ...   \n",
       "P001 V2 3.0   L eye           56.3                55.6  ...   \n",
       "              R eye           58.6                57.2  ...   \n",
       "        6.0   L eye            573                56.7  ...   \n",
       "              R eye            533                53.9  ...   \n",
       "     V3 3.0   R eye           58.1                56.9  ...   \n",
       "        6.0   R eye           61.2                59.0  ...   \n",
       "P002 V2 3.0   L eye           58.1                56.9  ...   \n",
       "              R eye           56.1                54.8  ...   \n",
       "        6.0   R eye          50.44                59.7  ...   \n",
       "     V3 3.0   L eye           58.8                57.9  ...   \n",
       "              R eye           55.5                54.2  ...   \n",
       "        6.0   L eye           61.7                61.5  ...   \n",
       "              R eye           56.7                57.1  ...   \n",
       "P003 V2 3.0   L eye           64.7                54.6  ...   \n",
       "              R eye           53.8                55.2  ...   \n",
       "        6.0   L eye           55.7                55.7  ...   \n",
       "              R eye           5344                53.7  ...   \n",
       "     V3 3.0   L eye           58.6                58.7  ...   \n",
       "              R eye           57.5                57.4  ...   \n",
       "        6.0   L eye           54.0                52.8  ...   \n",
       "              R eye           61.1                50.2  ...   \n",
       "P006 V2 3.0   L eye           56.4                55.8  ...   \n",
       "              R eye           54.7                55.9  ...   \n",
       "        6.0   L eye           52.2                52.6  ...   \n",
       "              R eye           62.8                61.5  ...   \n",
       "     V3 3.0   L eye           55.6                56.1  ...   \n",
       "              R eye           56.6                55.7  ...   \n",
       "        6.0   L eye           53.0                55.2  ...   \n",
       "              R eye           52.5                53.2  ...   \n",
       "\n",
       "                    thick_parai_inf hemi thick_peri_inf thick_peri_inf hemi  \\\n",
       "pat  v  depth eye                                                             \n",
       "P001 V2 3.0   L eye                316.0            NaN                 NaN   \n",
       "              R eye                324.0            NaN                 NaN   \n",
       "        6.0   L eye                314.0          252.0               256.0   \n",
       "              R eye                320.0          261.0               266.0   \n",
       "     V3 3.0   R eye                325.0            NaN                 NaN   \n",
       "        6.0   R eye                324.0          263.0               268.0   \n",
       "P002 V2 3.0   L eye                331.0            NaN                 NaN   \n",
       "              R eye                332.0            NaN                 NaN   \n",
       "        6.0   R eye                332.0            NaN               290.0   \n",
       "     V3 3.0   L eye                327.0            NaN                 NaN   \n",
       "              R eye                330.0            NaN                 NaN   \n",
       "        6.0   L eye                326.0          289.0               291.0   \n",
       "              R eye                329.0          285.0               289.0   \n",
       "P003 V2 3.0   L eye                330.0            NaN                 NaN   \n",
       "              R eye                327.0            NaN                 NaN   \n",
       "        6.0   L eye                332.0          279.0               286.0   \n",
       "              R eye                329.0          274.0               281.0   \n",
       "     V3 3.0   L eye                331.0            NaN                 NaN   \n",
       "              R eye                328.0            NaN                 NaN   \n",
       "        6.0   L eye                331.0          279.0               287.0   \n",
       "              R eye                329.0          274.0               280.0   \n",
       "P006 V2 3.0   L eye                308.0            NaN                 NaN   \n",
       "              R eye                307.0            NaN                 NaN   \n",
       "        6.0   L eye                307.0          249.0               255.0   \n",
       "              R eye                308.0          253.0               257.0   \n",
       "     V3 3.0   L eye                311.0            NaN                 NaN   \n",
       "              R eye                310.0            NaN                 NaN   \n",
       "        6.0   L eye                310.0          251.0               257.0   \n",
       "              R eye                309.0          254.0               258.0   \n",
       "\n",
       "                     thick_peri_nasal thick_peri_sup  thick_peri_sup hemi  \\\n",
       "pat  v  depth eye                                                           \n",
       "P001 V2 3.0   L eye               NaN            NaN                  NaN   \n",
       "              R eye               NaN            NaN                  NaN   \n",
       "        6.0   L eye             279.0          270.0                270.0   \n",
       "              R eye             286.0          277.0                275.0   \n",
       "     V3 3.0   R eye               NaN            NaN                  NaN   \n",
       "        6.0   R eye             287.0          277.0                276.0   \n",
       "P002 V2 3.0   L eye               NaN            NaN                  NaN   \n",
       "              R eye               NaN            NaN                  NaN   \n",
       "        6.0   R eye             322.0          300.0                300.0   \n",
       "     V3 3.0   L eye               NaN            NaN                  NaN   \n",
       "              R eye               NaN            NaN                  NaN   \n",
       "        6.0   L eye             319.0          298.0                295.0   \n",
       "              R eye             320.0          297.0                298.0   \n",
       "P003 V2 3.0   L eye               NaN            NaN                  NaN   \n",
       "              R eye               NaN            NaN                  NaN   \n",
       "        6.0   L eye             321.0          289.0                292.0   \n",
       "              R eye             312.0          287.0                291.0   \n",
       "     V3 3.0   L eye               NaN            NaN                  NaN   \n",
       "              R eye               NaN            NaN                  NaN   \n",
       "        6.0   L eye             320.0          290.0                293.0   \n",
       "              R eye             313.0          285.0                289.0   \n",
       "P006 V2 3.0   L eye               NaN            NaN                  NaN   \n",
       "              R eye               NaN            NaN                  NaN   \n",
       "        6.0   L eye             285.0          264.0                264.0   \n",
       "              R eye             280.0          260.0                261.0   \n",
       "     V3 3.0   L eye               NaN            NaN                  NaN   \n",
       "              R eye               NaN            NaN                  NaN   \n",
       "        6.0   L eye             288.0          266.0                267.0   \n",
       "              R eye             282.0          263.0                264.0   \n",
       "\n",
       "                     thick_peri_tempo   thick_perifovea  thick_sup hemi  \\\n",
       "pat  v  depth eye                                                         \n",
       "P001 V2 3.0   L eye                NaN              NaN           308.0   \n",
       "              R eye                NaN              NaN           314.0   \n",
       "        6.0   L eye              251.0            263.0           274.0   \n",
       "              R eye              258.0            271.0           280.0   \n",
       "     V3 3.0   R eye                NaN              NaN           315.0   \n",
       "        6.0   R eye              260.0            272.0           279.0   \n",
       "P002 V2 3.0   L eye                NaN              NaN           321.0   \n",
       "              R eye                NaN              NaN           323.0   \n",
       "        6.0   R eye              273.0            295.0           301.0   \n",
       "     V3 3.0   L eye                NaN              NaN           316.0   \n",
       "              R eye                NaN              NaN           321.0   \n",
       "        6.0   L eye              268.0            293.0           296.0   \n",
       "              R eye              272.0            293.0           299.0   \n",
       "P003 V2 3.0   L eye                NaN              NaN           318.0   \n",
       "              R eye                NaN              NaN           316.0   \n",
       "        6.0   L eye              269.0            289.0           293.0   \n",
       "              R eye              271.0            286.0           290.0   \n",
       "     V3 3.0   L eye                NaN              NaN           321.0   \n",
       "              R eye                NaN              NaN           318.0   \n",
       "        6.0   L eye              271.0            290.0           293.0   \n",
       "              R eye              267.0            285.0           289.0   \n",
       "P006 V2 3.0   L eye                NaN              NaN           299.0   \n",
       "              R eye                NaN              NaN           295.0   \n",
       "        6.0   L eye              239.0            260.0           267.0   \n",
       "              R eye              242.0            259.0           266.0   \n",
       "     V3 3.0   L eye                NaN              NaN           303.0   \n",
       "              R eye                NaN              NaN           296.0   \n",
       "        6.0   L eye              241.0            262.0           270.0   \n",
       "              R eye              247.0            261.0           268.0   \n",
       "\n",
       "                     thick_whole  \n",
       "pat  v  depth eye                 \n",
       "P001 V2 3.0   L eye        307.0  \n",
       "              R eye        314.0  \n",
       "        6.0   L eye        269.0  \n",
       "              R eye        276.0  \n",
       "     V3 3.0   R eye        315.0  \n",
       "        6.0   R eye        276.0  \n",
       "P002 V2 3.0   L eye        322.0  \n",
       "              R eye        322.0  \n",
       "        6.0   R eye        297.0  \n",
       "     V3 3.0   L eye        317.0  \n",
       "              R eye        320.0  \n",
       "        6.0   L eye        295.0  \n",
       "              R eye        295.0  \n",
       "P003 V2 3.0   L eye        319.0  \n",
       "              R eye        316.0  \n",
       "        6.0   L eye        291.0  \n",
       "              R eye        287.0  \n",
       "     V3 3.0   L eye        320.0  \n",
       "              R eye        318.0  \n",
       "        6.0   L eye        291.0  \n",
       "              R eye        286.0  \n",
       "P006 V2 3.0   L eye        298.0  \n",
       "              R eye        295.0  \n",
       "        6.0   L eye        265.0  \n",
       "              R eye        263.0  \n",
       "     V3 3.0   L eye        302.0  \n",
       "              R eye        297.0  \n",
       "        6.0   L eye        268.0  \n",
       "              R eye        264.0  \n",
       "\n",
       "[29 rows x 50 columns]"
      ]
     },
     "execution_count": 309,
     "metadata": {},
     "output_type": "execute_result"
    }
   ],
   "source": [
    "#MAYBE ITS PIVOT?\n",
    "# pd.pivot_table(df,index='pat')\n",
    "# df.pivot(index=pat,columns=df.columns[1:])\n",
    "\n",
    "\n",
    "#kinda works but ugly \n",
    "# df.iloc[0].fillna('')+df.iloc[1].fillna('')\n",
    "\n",
    "# pd.pivot_table(df[df.pat==p],index=[\"pat\"],aggfunc=list)\n",
    "\n",
    "#THIS IS THE SOLUTION. NP.NAN != NP.NAN , WHEREAS EVERYTHING ELSE == TO ITSELF. THEREFORE I USE THAT TO DISCRIMINATE\n",
    "\n",
    "s='SUP'\n",
    "df_pivot=pd.pivot_table(df[(df.specification!=s)],\n",
    "               index=[\"pat\",'v','depth','eye'],\n",
    "               aggfunc=lambda x: x.iloc[0] if(x.iloc[0]==x.iloc[0] ) else x.iloc[1]\n",
    "              )\n",
    "df_pivot"
   ]
  },
  {
   "cell_type": "markdown",
   "id": "7cda047f",
   "metadata": {},
   "source": [
    "# EXCEL"
   ]
  },
  {
   "cell_type": "code",
   "execution_count": null,
   "id": "fb287275",
   "metadata": {},
   "outputs": [],
   "source": [
    "wb=op.load_workbook('../data/NOPAIN TRIAL OCTA DATA EXTRACTION.xlsx')"
   ]
  },
  {
   "cell_type": "code",
   "execution_count": null,
   "id": "782d4236",
   "metadata": {},
   "outputs": [],
   "source": [
    "sheet_names=wb.sheetnames\n",
    "ws=wb.active\n",
    "ws.cell(,range=\"A:CS\").value"
   ]
  },
  {
   "cell_type": "code",
   "execution_count": null,
   "id": "218f1f1d",
   "metadata": {},
   "outputs": [],
   "source": [
    "cols=[]\n",
    "for i in range(1,98):\n",
    "    temp=ws.cell(row=3,column=i).value\n",
    "    if temp not in cols and type(temp) is not int:\n",
    "        cols.append(temp)\n",
    "    elif 'grid_v_d'+str(temp) not in cols and type(temp) is int:\n",
    "        cols.append('grid_v_d'+str(temp))\n",
    "cols"
   ]
  },
  {
   "cell_type": "markdown",
   "id": "4362f7b8",
   "metadata": {},
   "source": [
    "# Density Images"
   ]
  },
  {
   "cell_type": "code",
   "execution_count": null,
   "id": "e375fffa",
   "metadata": {},
   "outputs": [],
   "source": [
    "# Opens a image in RGB mode\n",
    "# im = Image.open(r\"og_pictures/P001, L eye, V2, 6.0 - Density DP.png\")\n",
    "im = Image.open(r\"og_pictures/P001, L eye, V2, 3.0 - Density DP.png\")\n",
    "\n",
    "# Size of the image in pixels (size of original image)\n",
    "# (This is not mandatory)\n",
    "width, height = im.size\n",
    "# Setting the points for cropped imagee\n",
    "table_top={\n",
    "    'l' : 1530,\n",
    "    't' : 154,\n",
    "    'r' : 1825,\n",
    "    'b' : 540\n",
    "    }\n",
    "table_bot={\n",
    "    'l' : 1540,\n",
    "    't' : 565,\n",
    "    'r' : 1820,\n",
    "    'b' : 625\n",
    "    }\n",
    "quality={\n",
    "    'l' : 1116,\n",
    "    't' : 55,\n",
    "    'r' : 1200,\n",
    "    'b' : 100\n",
    "    }\n",
    "\n",
    "crop_dict=table_top\n",
    "cropped = im.crop((crop_dict['l'], crop_dict['t'], crop_dict['r'], crop_dict['b']))\n",
    "cropped.save('evaluate/cropped.png')\n",
    "ocr=OCR(image_folder=\"evaluate/\")\n",
    "results=ocr.easyocr_model_works(visualization=False)  \n",
    "\n",
    "# display(im)\n",
    "display(cropped)\n",
    "\n",
    "# Shows the image in image viewer"
   ]
  },
  {
   "cell_type": "code",
   "execution_count": null,
   "id": "9c0a7836",
   "metadata": {},
   "outputs": [],
   "source": [
    "cropped.save('evaluate/cropped.png')"
   ]
  },
  {
   "cell_type": "code",
   "execution_count": null,
   "id": "a79b216a",
   "metadata": {},
   "outputs": [],
   "source": [
    "ocr=OCR(image_folder=\"evaluate/\")\n",
    "\n",
    "if __name__ == \"__main__\":\n",
    "#     ocr.keras_ocr_works()  #THIS WORKS TERRIBLY\n",
    "    results=ocr.easyocr_model_works()  \n",
    "#     ocr.pytesseract_model_works()\n",
    "\n",
    "\n"
   ]
  },
  {
   "cell_type": "code",
   "execution_count": null,
   "id": "211e1c28",
   "metadata": {},
   "outputs": [],
   "source": [
    "#TOP\n",
    "data_lin=np.array(results,dtype=object)[:,1]\n",
    "data_2d=np.split(data_lin,data_lin.shape[0]/3)\n",
    "df=pd.DataFrame(data_2d)\n",
    "df"
   ]
  },
  {
   "cell_type": "code",
   "execution_count": null,
   "id": "23236159",
   "metadata": {},
   "outputs": [],
   "source": [
    "#BOT\n",
    "data_lin=np.array(results,dtype=object)[:,1]\n",
    "data_2d=np.split(data_lin,data_lin.shape[0]/3)\n",
    "df=pd.DataFrame(data_2d)\n",
    "df"
   ]
  },
  {
   "cell_type": "markdown",
   "id": "eb64ee8d",
   "metadata": {},
   "source": [
    "# FAZ"
   ]
  },
  {
   "cell_type": "code",
   "execution_count": null,
   "id": "a822af4b",
   "metadata": {},
   "outputs": [],
   "source": [
    "# Opens a image in RGB mode\n",
    "# im = Image.open(r\"og_pictures/P001, L eye, V2, 6.0 - Density DP.png\")\n",
    "im = Image.open(r\"og_pictures/P001, L eye, V2, 3.0 - FAZ.png\")\n",
    "\n",
    "# Size of the image in pixels (size of original image)\n",
    "# (This is not mandatory)\n",
    "width, height = im.size\n",
    "# Setting the points for cropped imagee\n",
    "values={\n",
    "    'l' : 400,\n",
    "    't' : 90,\n",
    "    'r' : 800,\n",
    "    'b' : 120\n",
    "    }\n",
    "\n",
    "\n",
    "quality={\n",
    "    'l' : 1116,\n",
    "    't' : 55,\n",
    "    'r' : 1200,\n",
    "    'b' : 100\n",
    "    }\n",
    "\n",
    "crop_dict=values\n",
    "cropped = im.crop((crop_dict['l'], crop_dict['t'], crop_dict['r'], crop_dict['b']))\n",
    "cropped.save('evaluate/cropped.png')\n",
    "ocr=OCR(image_folder=\"evaluate/\")\n",
    "results=ocr.easyocr_model_works(visualization=False)  \n",
    "\n",
    "display(cropped)\n",
    "# display(im)\n",
    "\n",
    "# Shows the image in image viewer"
   ]
  },
  {
   "cell_type": "code",
   "execution_count": null,
   "id": "02c7e08e",
   "metadata": {},
   "outputs": [],
   "source": [
    "results"
   ]
  }
 ],
 "metadata": {
  "kernelspec": {
   "display_name": "Python [conda env:eyes]",
   "language": "python",
   "name": "conda-env-eyes-py"
  },
  "language_info": {
   "codemirror_mode": {
    "name": "ipython",
    "version": 3
   },
   "file_extension": ".py",
   "mimetype": "text/x-python",
   "name": "python",
   "nbconvert_exporter": "python",
   "pygments_lexer": "ipython3",
   "version": "3.10.8"
  },
  "toc": {
   "base_numbering": 1,
   "nav_menu": {},
   "number_sections": true,
   "sideBar": true,
   "skip_h1_title": false,
   "title_cell": "Table of Contents",
   "title_sidebar": "Contents",
   "toc_cell": false,
   "toc_position": {
    "height": "calc(100% - 180px)",
    "left": "10px",
    "top": "150px",
    "width": "465.455px"
   },
   "toc_section_display": true,
   "toc_window_display": true
  }
 },
 "nbformat": 4,
 "nbformat_minor": 5
}
